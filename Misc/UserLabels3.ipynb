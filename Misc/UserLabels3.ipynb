{
 "cells": [
  {
   "cell_type": "code",
   "execution_count": 3,
   "metadata": {},
   "outputs": [
    {
     "name": "stdout",
     "output_type": "stream",
     "text": [
      "[[['repair', 'Activity', True], ['replace', 'Activity', True], ['head', 'Item', False], ['proximity switch', 'Item', True]], [['inverter', 'Item', True], ['damaged', 'Observation/Observed_state', True], ['240v', 'Specifier', True], ['circuit', 'Item', True]], [['inverter', 'Item', True], ['no', 'Observation/Observed_state', False], ['output.', 'Observation/Observed_state', False]], [['inverter', 'Item', True], ['keeps tripping', 'Observation/Observed_state', False], ['on', 'Location', True]], [['inverter', 'Item', True], ['not working', 'Observation/Observed_state', False]], [['inverter', 'Item', True], ['not working.', 'Observation/Observed_state', False]], [['inverter', 'Item', True], ['playing up', 'Observation/Observed_state', False]], [['inverter', 'Item', True], ['tripped out', 'Observation/Observed_state', False]], [['inverter', 'Item', True], ['tripping', 'Observation/Observed_state', False]], [['inverter', 'Item', True], ['tripping', 'Observation/Observed_state', False], ['on', 'Location', False], ['e/l', 'Item', False]]]\n"
     ]
    }
   ],
   "source": [
    "from annotator import Annotator\n",
    "from label import Label_Metrics\n",
    "from ngram import Ngram_Metrics\n",
    "from matplotlib import pyplot as plt\n",
    "import graphs as gr\n",
    "\n",
    "caitlin = Annotator('caitlin', \"annotations-caitlinwoods.json\")\n",
    "ziyu = Annotator('ziyu', \"annotations-ziyu.zhao.json\")\n",
    "tim = Annotator('tim', \"annotations-Tim.json\")\n",
    "tyler = Annotator('tyler', \"annotations-TBikaun.json\")\n",
    "tim = Annotator('tim', \"annotations-Tim.json\")\n",
    "michael = Annotator('melinda', \"annotations-mstewartuwa.json\")\n",
    "laura = Annotator('laura', \"annotations-mstewartuwa.json\")\n",
    "frederick = Annotator('frederick', \"annotations-FrederickSA.json\")\n",
    "\n",
    "label = Label_Metrics(caitlin, ziyu, tim, tyler)\n",
    "annotated_corpus = label.get_corpus_metrics()\n",
    "print(label.annotated_corpus)"
   ]
  }
 ],
 "metadata": {
  "kernelspec": {
   "display_name": "Python 3.8.10",
   "language": "python",
   "name": "python3"
  },
  "language_info": {
   "codemirror_mode": {
    "name": "ipython",
    "version": 3
   },
   "file_extension": ".py",
   "mimetype": "text/x-python",
   "name": "python",
   "nbconvert_exporter": "python",
   "pygments_lexer": "ipython3",
   "version": "3.8.10"
  },
  "orig_nbformat": 4,
  "vscode": {
   "interpreter": {
    "hash": "280c27857ba5f296638a4affe7dd8804a199bde6a579fe208ca483adfb295910"
   }
  }
 },
 "nbformat": 4,
 "nbformat_minor": 2
}
