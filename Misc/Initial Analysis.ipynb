{
 "cells": [
  {
   "cell_type": "code",
   "execution_count": 1,
   "metadata": {},
   "outputs": [],
   "source": [
    "import pandas as pd\n",
    "import matplotlib\n",
    "\n",
    "df = pd.read_json('annotations.json', lines = True)\n"
   ]
  },
  {
   "cell_type": "code",
   "execution_count": 2,
   "metadata": {},
   "outputs": [
    {
     "name": "stdout",
     "output_type": "stream",
     "text": [
      "<class 'pandas.core.frame.DataFrame'>\n",
      "RangeIndex: 400 entries, 0 to 399\n",
      "Data columns (total 4 columns):\n",
      " #   Column               Non-Null Count  Dtype  \n",
      "---  ------               --------------  -----  \n",
      " 0   doc_idx              400 non-null    int64  \n",
      " 1   annotator_agreement  400 non-null    float64\n",
      " 2   tokens               400 non-null    object \n",
      " 3   mentions             400 non-null    object \n",
      "dtypes: float64(1), int64(1), object(2)\n",
      "memory usage: 12.6+ KB\n"
     ]
    }
   ],
   "source": [
    "pd.set_option('display.max_colwidth', 500)\n",
    "df.info()"
   ]
  },
  {
   "cell_type": "code",
   "execution_count": 3,
   "metadata": {},
   "outputs": [
    {
     "data": {
      "text/html": [
       "<div>\n",
       "<style scoped>\n",
       "    .dataframe tbody tr th:only-of-type {\n",
       "        vertical-align: middle;\n",
       "    }\n",
       "\n",
       "    .dataframe tbody tr th {\n",
       "        vertical-align: top;\n",
       "    }\n",
       "\n",
       "    .dataframe thead th {\n",
       "        text-align: right;\n",
       "    }\n",
       "</style>\n",
       "<table border=\"1\" class=\"dataframe\">\n",
       "  <thead>\n",
       "    <tr style=\"text-align: right;\">\n",
       "      <th></th>\n",
       "      <th>doc_idx</th>\n",
       "      <th>annotator_agreement</th>\n",
       "      <th>tokens</th>\n",
       "      <th>mentions</th>\n",
       "    </tr>\n",
       "  </thead>\n",
       "  <tbody>\n",
       "    <tr>\n",
       "      <th>0</th>\n",
       "      <td>0</td>\n",
       "      <td>1.000000</td>\n",
       "      <td>[ITEM_ID, -, holding, wrench, not, working]</td>\n",
       "      <td>[{'start': 2, 'end': 4, 'labels': ['Item']}, {'start': 4, 'end': 6, 'labels': ['Observation', 'Observation/Observed_state']}]</td>\n",
       "    </tr>\n",
       "    <tr>\n",
       "      <th>1</th>\n",
       "      <td>1</td>\n",
       "      <td>0.933333</td>\n",
       "      <td>[ITEM_ID, engine, wo, n't, start]</td>\n",
       "      <td>[{'start': 1, 'end': 2, 'labels': ['Item']}, {'start': 2, 'end': 5, 'labels': ['Observation', 'Observation/Observed_state']}]</td>\n",
       "    </tr>\n",
       "    <tr>\n",
       "      <th>2</th>\n",
       "      <td>2</td>\n",
       "      <td>0.466667</td>\n",
       "      <td>[ITEM_ID, pre, service, setup]</td>\n",
       "      <td>[{'start': 1, 'end': 4, 'labels': ['Activity']}]</td>\n",
       "    </tr>\n",
       "    <tr>\n",
       "      <th>3</th>\n",
       "      <td>3</td>\n",
       "      <td>0.620040</td>\n",
       "      <td>[acc, damage, repair, mast, air, piping, scv]</td>\n",
       "      <td>[{'start': 1, 'end': 2, 'labels': ['Observation', 'Observation/Observed_state']}, {'start': 2, 'end': 3, 'labels': ['Activity']}, {'start': 3, 'end': 4, 'labels': ['Item']}, {'start': 4, 'end': 6, 'labels': ['Item']}]</td>\n",
       "    </tr>\n",
       "    <tr>\n",
       "      <th>4</th>\n",
       "      <td>4</td>\n",
       "      <td>0.900000</td>\n",
       "      <td>[acc, :, replace, chip, deflector]</td>\n",
       "      <td>[{'start': 2, 'end': 3, 'labels': ['Activity']}, {'start': 3, 'end': 5, 'labels': ['Item']}]</td>\n",
       "    </tr>\n",
       "  </tbody>\n",
       "</table>\n",
       "</div>"
      ],
      "text/plain": [
       "   doc_idx  annotator_agreement  \\\n",
       "0        0             1.000000   \n",
       "1        1             0.933333   \n",
       "2        2             0.466667   \n",
       "3        3             0.620040   \n",
       "4        4             0.900000   \n",
       "\n",
       "                                          tokens  \\\n",
       "0    [ITEM_ID, -, holding, wrench, not, working]   \n",
       "1              [ITEM_ID, engine, wo, n't, start]   \n",
       "2                 [ITEM_ID, pre, service, setup]   \n",
       "3  [acc, damage, repair, mast, air, piping, scv]   \n",
       "4             [acc, :, replace, chip, deflector]   \n",
       "\n",
       "                                                                                                                                                                                                                    mentions  \n",
       "0                                                                                              [{'start': 2, 'end': 4, 'labels': ['Item']}, {'start': 4, 'end': 6, 'labels': ['Observation', 'Observation/Observed_state']}]  \n",
       "1                                                                                              [{'start': 1, 'end': 2, 'labels': ['Item']}, {'start': 2, 'end': 5, 'labels': ['Observation', 'Observation/Observed_state']}]  \n",
       "2                                                                                                                                                                           [{'start': 1, 'end': 4, 'labels': ['Activity']}]  \n",
       "3  [{'start': 1, 'end': 2, 'labels': ['Observation', 'Observation/Observed_state']}, {'start': 2, 'end': 3, 'labels': ['Activity']}, {'start': 3, 'end': 4, 'labels': ['Item']}, {'start': 4, 'end': 6, 'labels': ['Item']}]  \n",
       "4                                                                                                                               [{'start': 2, 'end': 3, 'labels': ['Activity']}, {'start': 3, 'end': 5, 'labels': ['Item']}]  "
      ]
     },
     "execution_count": 3,
     "metadata": {},
     "output_type": "execute_result"
    }
   ],
   "source": [
    "df.head(5)"
   ]
  },
  {
   "cell_type": "code",
   "execution_count": 4,
   "metadata": {},
   "outputs": [
    {
     "data": {
      "image/png": "[encoded data removed]",
      "text/plain": [
       "<Figure size 864x576 with 1 Axes>"
      ]
     },
     "metadata": {
      "needs_background": "light"
     },
     "output_type": "display_data"
    }
   ],
   "source": [
    "ax = df.hist(column='annotator_agreement', bins=25, grid=False, figsize=(12,8), color='#86bf91', zorder=2, rwidth=0.9)\n",
    "\n",
    "ax = ax[0]\n",
    "for x in ax:\n",
    "\n",
    "    # Despine\n",
    "    x.spines['right'].set_visible(False)\n",
    "    x.spines['top'].set_visible(False)\n",
    "    x.spines['left'].set_visible(False)\n",
    "\n",
    "    # Switch off ticks\n",
    "    x.tick_params(axis=\"both\", which=\"both\", bottom=\"off\", top=\"off\", labelbottom=\"on\", left=\"off\", right=\"off\", labelleft=\"on\")\n",
    "\n",
    "    # Draw horizontal axis lines\n",
    "    vals = x.get_yticks()\n",
    "    for tick in vals:\n",
    "        x.axhline(y=tick, linestyle='dashed', alpha=0.4, color='#eeeeee', zorder=1)\n",
    "\n",
    "    # Remove title\n",
    "    x.set_title(\"Document Numbers vs. Annotator Agreement Values\")\n",
    "\n",
    "    # Set x-axis label\n",
    "    x.set_xlabel(\"annotator_agreement number\", labelpad=20, weight='bold', size=12)\n",
    "\n",
    "    # Set y-axis label\n",
    "    x.set_ylabel(\"Documents\", labelpad=20, weight='bold', size=12)\n",
    "\n",
    "    # Format y-axis label\n",
    "    # x.yaxis.set_major_formatter(StrMethodFormatter('{x:,g}'))"
   ]
  },
  {
   "cell_type": "code",
   "execution_count": 30,
   "metadata": {},
   "outputs": [
    {
     "name": "stdout",
     "output_type": "stream",
     "text": [
      "1\n"
     ]
    }
   ],
   "source": [
    "import json\n",
    "import os\n",
    "person_annotations_file = \"annotations-caitlinwoods.json\"\n",
    "file_path = os.path.join(\"data\", person_annotations_file)\n",
    "with open(file_path) as json_file:\n",
    "    data1 = [json.loads(line) for line in open(file_path,'r')]\n",
    "\n",
    "    # for reading nested data [0] represents\n",
    "    # the index value of the list\n",
    "    print(data1[1][\"doc_idx\"]) "
   ]
  }
 ],
 "metadata": {
  "kernelspec": {
   "display_name": "Python 3.8.3 64-bit",
   "language": "python",
   "name": "python3"
  },
  "language_info": {
   "codemirror_mode": {
    "name": "ipython",
    "version": 3
   },
   "file_extension": ".py",
   "mimetype": "text/x-python",
   "name": "python",
   "nbconvert_exporter": "python",
   "pygments_lexer": "ipython3",
   "version": "3.8.3"
  },
  "orig_nbformat": 4,
  "vscode": {
   "interpreter": {
    "hash": "f3aee800614a5485d4e1ef423aa2f6866bf568d4db94c3995a189d53298965bc"
   }
  }
 },
 "nbformat": 4,
 "nbformat_minor": 2
}
