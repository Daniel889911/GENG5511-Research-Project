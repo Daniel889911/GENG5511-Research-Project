{
 "cells": [
  {
   "cell_type": "code",
   "execution_count": 1,
   "metadata": {},
   "outputs": [],
   "source": [
    "from annotator import Annotator\n",
    "from graph_ranking import Label_Metrics\n",
    "import graphs as gr\n",
    "import networkx as nx\n",
    "import numpy as np\n",
    "\n",
    "tyler = Annotator('tyler', \"annotations-TBikaun.json\")\n",
    "daniel = Annotator('daniel', \"annotations-danielsantosa.json\")\n",
    "caitlin = Annotator('caitlin', \"annotations-caitlinwoods.json\")\n",
    "ziyu = Annotator('ziyu', \"annotations-ziyu.zhao.json\")\n",
    "michael = Annotator('michael', \"annotations-mstewartuwa.json\")\n",
    "tim = Annotator('tim', \"annotations-Tim.json\")\n",
    "melinda = Annotator('melinda', \"annotations-mhodki.json\")\n",
    "label = Label_Metrics(ziyu, tyler, caitlin, tim)\n",
    "label.get_same_doc_ids()\n",
    "label.same_docs\n",
    "table = label.create_all_annotations_table()"
   ]
  },
  {
   "cell_type": "code",
   "execution_count": 2,
   "metadata": {},
   "outputs": [],
   "source": [
    "tripartate_graph = label.create_tripartate_graph(table)\n",
    "ranking = label.get_folkrank(tripartate_graph)"
   ]
  },
  {
   "cell_type": "code",
   "execution_count": 3,
   "metadata": {},
   "outputs": [
    {
     "name": "stdout",
     "output_type": "stream",
     "text": [
      "FolkRank scores for items:\n",
      "playing up: 0.037634\n",
      "keeps tripping: 0.032258\n",
      "not working: 0.032258\n",
      "not working.: 0.032258\n",
      "tripped out: 0.032258\n",
      "tripping: 0.032258\n",
      "e/l: 0.026882\n",
      "repair: 0.026882\n",
      "replace: 0.026882\n",
      "inverter: 0.026882\n",
      "circuit: 0.026882\n",
      "damaged: 0.026882\n",
      "240v: 0.026882\n",
      "on: 0.021505\n",
      "has no output.: 0.021505\n",
      "head proximity switch: 0.016129\n",
      "no: 0.010753\n",
      "output.: 0.010753\n",
      "tripping on e/l: 0.010753\n",
      "proximity switch: 0.010753\n",
      "head: 0.010753\n",
      "\n",
      "FolkRank scores for annotators:\n",
      "ziyu: 0.091398\n",
      "tyler: 0.086021\n",
      "caitlin: 0.086021\n",
      "tim: 0.080645\n"
     ]
    }
   ],
   "source": [
    "item_nodes = set(table['token'].unique())\n",
    "annotator_nodes = set(table['annotator_id'].unique())\n",
    "\n",
    "item_ranking = {k: v for k, v in ranking.items() if k in item_nodes}\n",
    "annotator_ranking = {k: v for k, v in ranking.items() if k in annotator_nodes}\n",
    "\n",
    "print(\"FolkRank scores for items:\")\n",
    "for node, score in sorted(item_ranking.items(), key=lambda x: x[1], reverse=True):\n",
    "    print(f\"{node}: {score:.6f}\")\n",
    "\n",
    "print(\"\\nFolkRank scores for annotators:\")\n",
    "for node, score in sorted(annotator_ranking.items(), key=lambda x: x[1], reverse=True):\n",
    "    print(f\"{node}: {score:.6f}\")"
   ]
  }
 ],
 "metadata": {
  "kernelspec": {
   "display_name": "Python 3.10.6 ('geng5511')",
   "language": "python",
   "name": "python3"
  },
  "language_info": {
   "codemirror_mode": {
    "name": "ipython",
    "version": 3
   },
   "file_extension": ".py",
   "mimetype": "text/x-python",
   "name": "python",
   "nbconvert_exporter": "python",
   "pygments_lexer": "ipython3",
   "version": "3.10.6"
  },
  "orig_nbformat": 4,
  "vscode": {
   "interpreter": {
    "hash": "0d6b25e3d359dbcf5b3d012df9b4ff4bf9ad1ff150d1f4aeb5127ceac302af3e"
   }
  }
 },
 "nbformat": 4,
 "nbformat_minor": 2
}
