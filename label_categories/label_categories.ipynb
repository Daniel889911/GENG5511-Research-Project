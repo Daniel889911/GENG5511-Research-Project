{
 "cells": [
  {
   "cell_type": "code",
   "execution_count": 1,
   "metadata": {},
   "outputs": [
    {
     "data": {
      "text/plain": [
       "[{'Consumable Specifier': [0, 4]},\n",
       " {'Observation/Observed_state Typo': [0, 1]},\n",
       " {'Specifier': [4, 36]},\n",
       " {'Observation/Observed_state': [4, 84]},\n",
       " {'Cardinality': [1, 3]},\n",
       " {'Observation/Qualitative': [0, 19]},\n",
       " {'Item Typo': [0, 2]},\n",
       " {'None': [0, 316]},\n",
       " {'Observation Observation/Observed_state': [0, 5]},\n",
       " {'Consumable': [1, 22]},\n",
       " {'Abbreviation': [0, 3]},\n",
       " {'Observation Observation/Qualitative': [0, 2]},\n",
       " {'Location': [47, 28]},\n",
       " {'Typo Observation/Observed_state': [0, 1]},\n",
       " {'Item Unsure': [0, 2]},\n",
       " {'Typo': [0, 2]},\n",
       " {'Typo Item': [0, 1]},\n",
       " {'Attribute': [0, 13]},\n",
       " {'Observation/Observed_state Abbreviation': [0, 3]},\n",
       " {'Agent': [0, 2]},\n",
       " {'Activity': [95, 10]},\n",
       " {'Item Abbreviation': [0, 4]},\n",
       " {'Observation': [0, 6]},\n",
       " {'Location Abbreviation': [0, 3]},\n",
       " {'Item': [102, 156]},\n",
       " {'Time': [0, 2]}]"
      ]
     },
     "execution_count": 1,
     "metadata": {},
     "output_type": "execute_result"
    }
   ],
   "source": [
    "from annotator import Annotator\n",
    "from label_categories import Label_Metrics\n",
    "import graphs as gr\n",
    "\n",
    "annotator1 = Annotator('annotator1', \"annotations-TBikaun.json\")\n",
    "annotator2 = Annotator('annotator2', \"annotations-ziyu.zhao.json\")\n",
    "annotator3 = Annotator('annotator3', \"annotations-danielsantosa.json\")\n",
    "annotator4 = Annotator('annotator4', \"annotations-mhodki.json\")\n",
    "annotator5 = Annotator('annotator5', \"annotations-mstewartuwa.json\")\n",
    "annotator6 = Annotator('annotator6', \"annotations-caitlinwoods.json\")\n",
    "annotator7 = Annotator('annotator7', \"annotations-Tim.json\")\n",
    "label = Label_Metrics(annotator1, annotator2, annotator3)\n",
    "overall_table = label.get_accumulated_table_labels()\n",
    "label_agreement_lists = label.get_label_agreements_lists(overall_table)\n",
    "label_agreement_lists"
   ]
  },
  {
   "cell_type": "code",
   "execution_count": null,
   "metadata": {},
   "outputs": [],
   "source": [
    "agreement_percentages = label.get_agreement_percentages(label_agreement_lists)\n",
    "agreement_percentages"
   ]
  },
  {
   "cell_type": "code",
   "execution_count": null,
   "metadata": {},
   "outputs": [],
   "source": [
    "agreements_summary = label.create_agreement_summary(agreement_percentages)\n",
    "agreements_summary"
   ]
  },
  {
   "cell_type": "code",
   "execution_count": null,
   "metadata": {},
   "outputs": [],
   "source": [
    "gr.create_pie_chart(label_agreement_lists)"
   ]
  }
 ],
 "metadata": {
  "kernelspec": {
   "display_name": "Python 3.10.6 ('geng5511')",
   "language": "python",
   "name": "python3"
  },
  "language_info": {
   "codemirror_mode": {
    "name": "ipython",
    "version": 3
   },
   "file_extension": ".py",
   "mimetype": "text/x-python",
   "name": "python",
   "nbconvert_exporter": "python",
   "pygments_lexer": "ipython3",
   "version": "3.10.6"
  },
  "orig_nbformat": 4,
  "vscode": {
   "interpreter": {
    "hash": "0d6b25e3d359dbcf5b3d012df9b4ff4bf9ad1ff150d1f4aeb5127ceac302af3e"
   }
  }
 },
 "nbformat": 4,
 "nbformat_minor": 2
}
