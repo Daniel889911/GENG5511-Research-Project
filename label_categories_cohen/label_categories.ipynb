{
 "cells": [
  {
   "cell_type": "code",
   "execution_count": 1,
   "metadata": {},
   "outputs": [],
   "source": [
    "from annotator import Annotator\n",
    "from label_categories import Label_Metrics\n",
    "import graphs as gr\n",
    "import warnings\n",
    "\n",
    "warnings.filterwarnings(\"ignore\", category=RuntimeWarning)\n",
    "annotator1 = Annotator('annotator1', \"annotations-TBikaun.json\")\n",
    "annotator2 = Annotator('annotator2', \"annotations-ziyu.zhao.json\")\n",
    "annotator3 = Annotator('annotator3', \"annotations-danielsantosa.json\")\n",
    "annotator4 = Annotator('annotator4', \"annotations-mhodki.json\")\n",
    "annotator5 = Annotator('annotator5', \"annotations-mstewartuwa.json\")\n",
    "annotator6 = Annotator('annotator6', \"annotations-caitlinwoods.json\")\n",
    "annotator7 = Annotator('annotator7', \"annotations-Tim.json\")\n",
    "label = Label_Metrics(annotator1, annotator2, annotator3)\n",
    "overall_table = label.get_accumulated_table_labels()"
   ]
  },
  {
   "cell_type": "code",
   "execution_count": 3,
   "metadata": {},
   "outputs": [
    {
     "data": {
      "text/html": [
       "<div>\n",
       "<style scoped>\n",
       "    .dataframe tbody tr th:only-of-type {\n",
       "        vertical-align: middle;\n",
       "    }\n",
       "\n",
       "    .dataframe tbody tr th {\n",
       "        vertical-align: top;\n",
       "    }\n",
       "\n",
       "    .dataframe thead tr th {\n",
       "        text-align: left;\n",
       "    }\n",
       "</style>\n",
       "<table border=\"1\" class=\"dataframe\">\n",
       "  <thead>\n",
       "    <tr>\n",
       "      <th></th>\n",
       "      <th colspan=\"5\" halign=\"left\">all_annotators</th>\n",
       "    </tr>\n",
       "    <tr>\n",
       "      <th></th>\n",
       "      <th>lowest agreement</th>\n",
       "      <th>medium-low agreement</th>\n",
       "      <th>medium agreement</th>\n",
       "      <th>medium-high agreement</th>\n",
       "      <th>high agreement</th>\n",
       "    </tr>\n",
       "  </thead>\n",
       "  <tbody>\n",
       "    <tr>\n",
       "      <th>0</th>\n",
       "      <td>NaN</td>\n",
       "      <td>NaN</td>\n",
       "      <td>NoLabel</td>\n",
       "      <td>Item</td>\n",
       "      <td>Location</td>\n",
       "    </tr>\n",
       "    <tr>\n",
       "      <th>1</th>\n",
       "      <td>NaN</td>\n",
       "      <td>NaN</td>\n",
       "      <td>Item Abbreviation</td>\n",
       "      <td>Observation/Observed_state</td>\n",
       "      <td>Activity</td>\n",
       "    </tr>\n",
       "    <tr>\n",
       "      <th>2</th>\n",
       "      <td>NaN</td>\n",
       "      <td>NaN</td>\n",
       "      <td>Attribute</td>\n",
       "      <td>Observation Observation/Observed_state</td>\n",
       "      <td>NaN</td>\n",
       "    </tr>\n",
       "    <tr>\n",
       "      <th>3</th>\n",
       "      <td>NaN</td>\n",
       "      <td>NaN</td>\n",
       "      <td>Observation/Qualitative</td>\n",
       "      <td>Consumable</td>\n",
       "      <td>NaN</td>\n",
       "    </tr>\n",
       "    <tr>\n",
       "      <th>4</th>\n",
       "      <td>NaN</td>\n",
       "      <td>NaN</td>\n",
       "      <td>Specifier</td>\n",
       "      <td>Cardinality</td>\n",
       "      <td>NaN</td>\n",
       "    </tr>\n",
       "    <tr>\n",
       "      <th>5</th>\n",
       "      <td>NaN</td>\n",
       "      <td>NaN</td>\n",
       "      <td>Unsure</td>\n",
       "      <td>Time</td>\n",
       "      <td>NaN</td>\n",
       "    </tr>\n",
       "  </tbody>\n",
       "</table>\n",
       "</div>"
      ],
      "text/plain": [
       "    all_annotators                                                \\\n",
       "  lowest agreement medium-low agreement         medium agreement   \n",
       "0              NaN                  NaN                  NoLabel   \n",
       "1              NaN                  NaN        Item Abbreviation   \n",
       "2              NaN                  NaN                Attribute   \n",
       "3              NaN                  NaN  Observation/Qualitative   \n",
       "4              NaN                  NaN                Specifier   \n",
       "5              NaN                  NaN                   Unsure   \n",
       "\n",
       "                                                          \n",
       "                    medium-high agreement high agreement  \n",
       "0                                    Item       Location  \n",
       "1              Observation/Observed_state       Activity  \n",
       "2  Observation Observation/Observed_state            NaN  \n",
       "3                              Consumable            NaN  \n",
       "4                             Cardinality            NaN  \n",
       "5                                    Time            NaN  "
      ]
     },
     "execution_count": 3,
     "metadata": {},
     "output_type": "execute_result"
    }
   ],
   "source": [
    "label_agreements = label.get_label_agreements_with_chance(overall_table)\n",
    "label_agreements_dict = {\"all_annotators\": label_agreements}\n",
    "agreement_summary = label.create_agreement_summary(label_agreements_dict)\n",
    "agreement_summary\n"
   ]
  }
 ],
 "metadata": {
  "kernelspec": {
   "display_name": "Python 3.10.6 ('geng5511')",
   "language": "python",
   "name": "python3"
  },
  "language_info": {
   "codemirror_mode": {
    "name": "ipython",
    "version": 3
   },
   "file_extension": ".py",
   "mimetype": "text/x-python",
   "name": "python",
   "nbconvert_exporter": "python",
   "pygments_lexer": "ipython3",
   "version": "3.10.6"
  },
  "orig_nbformat": 4,
  "vscode": {
   "interpreter": {
    "hash": "0d6b25e3d359dbcf5b3d012df9b4ff4bf9ad1ff150d1f4aeb5127ceac302af3e"
   }
  }
 },
 "nbformat": 4,
 "nbformat_minor": 2
}
