{
 "cells": [
  {
   "cell_type": "code",
   "execution_count": 1,
   "metadata": {},
   "outputs": [
    {
     "data": {
      "text/plain": [
       "[['Activity', 25, 5],\n",
       " ['Consumable', 28, 6],\n",
       " ['Observation/Observed_state', 34, 12],\n",
       " ['Location', 41, 16],\n",
       " ['Item', 85, 23],\n",
       " ['Location Location Abbreviation', 85, 25],\n",
       " ['Location Abbreviation Location', 85, 26],\n",
       " ['Item Abbreviation', 87, 26],\n",
       " ['Unsure', 88, 26],\n",
       " ['Location Abbreviation', 88, 27],\n",
       " ['Agent', 90, 28],\n",
       " ['Specifier', 90, 29],\n",
       " ['Attribute', 91, 33]]"
      ]
     },
     "execution_count": 1,
     "metadata": {},
     "output_type": "execute_result"
    }
   ],
   "source": [
    "from annotator import Annotator\n",
    "from label import Label_Metrics\n",
    "import graphs as gr\n",
    "\n",
    "tyler = Annotator('tyler', \"annotations-TBikaun.json\")\n",
    "melinda = Annotator('melinda', \"annotations-mhodki.json\")\n",
    "caitlin = Annotator('caitlin', \"annotations-caitlinwoods.json\")\n",
    "ziyu = Annotator('ziyu', \"annotations-ziyu.zhao.json\")\n",
    "label = Label_Metrics(caitlin, ziyu, melinda, tyler)\n",
    "label.get_corpus_metrics()\n",
    "label_metrics = label.get_label_metrics()\n",
    "label_metrics"
   ]
  },
  {
   "cell_type": "code",
   "execution_count": null,
   "metadata": {},
   "outputs": [],
   "source": [
    "gr.create_pie_chart(label_metrics)"
   ]
  }
 ],
 "metadata": {
  "kernelspec": {
   "display_name": "Python 3.10.6 ('geng5511')",
   "language": "python",
   "name": "python3"
  },
  "language_info": {
   "codemirror_mode": {
    "name": "ipython",
    "version": 3
   },
   "file_extension": ".py",
   "mimetype": "text/x-python",
   "name": "python",
   "nbconvert_exporter": "python",
   "pygments_lexer": "ipython3",
   "version": "3.10.6"
  },
  "orig_nbformat": 4,
  "vscode": {
   "interpreter": {
    "hash": "0d6b25e3d359dbcf5b3d012df9b4ff4bf9ad1ff150d1f4aeb5127ceac302af3e"
   }
  }
 },
 "nbformat": 4,
 "nbformat_minor": 2
}
