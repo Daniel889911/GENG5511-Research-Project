{
 "cells": [
  {
   "cell_type": "code",
   "execution_count": 1,
   "metadata": {},
   "outputs": [
    {
     "ename": "AttributeError",
     "evalue": "'Ngram_Metrics' object has no attribute 'get_single_doc_metrics'",
     "output_type": "error",
     "traceback": [
      "\u001b[1;31m---------------------------------------------------------------------------\u001b[0m",
      "\u001b[1;31mAttributeError\u001b[0m                            Traceback (most recent call last)",
      "\u001b[1;32mc:\\Users\\Daniel\\Documents\\GitHub\\GENG5511-Research-Project\\HeatMap.ipynb Cell 1\u001b[0m in \u001b[0;36m<cell line: 11>\u001b[1;34m()\u001b[0m\n\u001b[0;32m      <a href='vscode-notebook-cell:/c%3A/Users/Daniel/Documents/GitHub/GENG5511-Research-Project/HeatMap.ipynb#W0sZmlsZQ%3D%3D?line=8'>9</a>\u001b[0m tim \u001b[39m=\u001b[39m Annotator(\u001b[39m'\u001b[39m\u001b[39mtim\u001b[39m\u001b[39m'\u001b[39m, \u001b[39m\"\u001b[39m\u001b[39mannotations-Tim.json\u001b[39m\u001b[39m\"\u001b[39m)\n\u001b[0;32m     <a href='vscode-notebook-cell:/c%3A/Users/Daniel/Documents/GitHub/GENG5511-Research-Project/HeatMap.ipynb#W0sZmlsZQ%3D%3D?line=9'>10</a>\u001b[0m ngram \u001b[39m=\u001b[39m Ngram_Metrics(caitlin, ziyu, tim, tyler)\n\u001b[1;32m---> <a href='vscode-notebook-cell:/c%3A/Users/Daniel/Documents/GitHub/GENG5511-Research-Project/HeatMap.ipynb#W0sZmlsZQ%3D%3D?line=10'>11</a>\u001b[0m corpus_metrics \u001b[39m=\u001b[39m ngram\u001b[39m.\u001b[39;49mget_corpus_metrics()\n\u001b[0;32m     <a href='vscode-notebook-cell:/c%3A/Users/Daniel/Documents/GitHub/GENG5511-Research-Project/HeatMap.ipynb#W0sZmlsZQ%3D%3D?line=11'>12</a>\u001b[0m label_ngram_metrics \u001b[39m=\u001b[39m ngram\u001b[39m.\u001b[39mget_label_ngram_metrics(corpus_metrics)\n\u001b[0;32m     <a href='vscode-notebook-cell:/c%3A/Users/Daniel/Documents/GitHub/GENG5511-Research-Project/HeatMap.ipynb#W0sZmlsZQ%3D%3D?line=12'>13</a>\u001b[0m \u001b[39mprint\u001b[39m(label_ngram_metrics)\n",
      "File \u001b[1;32mc:\\Users\\Daniel\\Documents\\GitHub\\GENG5511-Research-Project\\ngram.py:97\u001b[0m, in \u001b[0;36mNgram_Metrics.get_corpus_metrics\u001b[1;34m(self)\u001b[0m\n\u001b[0;32m     95\u001b[0m     annotated \u001b[39m=\u001b[39m \u001b[39mself\u001b[39m\u001b[39m.\u001b[39mget_token_label(token, mention)\n\u001b[0;32m     96\u001b[0m     annotated_doc\u001b[39m.\u001b[39mappend(annotated)\n\u001b[1;32m---> 97\u001b[0m single_doc_metrics \u001b[39m=\u001b[39m \u001b[39mself\u001b[39;49m\u001b[39m.\u001b[39;49mget_single_doc_metrics(annotated_doc)\n\u001b[0;32m     98\u001b[0m annotated_corpus\u001b[39m.\u001b[39mappend(single_doc_metrics)\n\u001b[0;32m     99\u001b[0m annotated_doc\u001b[39m.\u001b[39mclear()\n",
      "\u001b[1;31mAttributeError\u001b[0m: 'Ngram_Metrics' object has no attribute 'get_single_doc_metrics'"
     ]
    }
   ],
   "source": [
    "from annotator import Annotator\n",
    "from label import Label_Metrics\n",
    "from ngram import Ngram_Metrics\n",
    "import graphs as gr\n",
    "\n",
    "caitlin = Annotator('caitlin', \"annotations-caitlinwoods.json\")\n",
    "tyler = Annotator('tyler', \"annotations-TBikaun.json\")\n",
    "ziyu = Annotator('ziyu', \"annotations-ziyu.zhao.json\")\n",
    "tim = Annotator('tim', \"annotations-Tim.json\")\n",
    "ngram = Ngram_Metrics(caitlin, ziyu, tim, tyler)\n",
    "corpus_metrics = ngram.get_corpus_metrics()\n",
    "label_ngram_metrics = ngram.get_label_ngram_metrics(corpus_metrics)\n",
    "print(label_ngram_metrics)"
   ]
  },
  {
   "cell_type": "code",
   "execution_count": null,
   "metadata": {},
   "outputs": [],
   "source": [
    "gr.create_heatmap(label_ngram_metrics)"
   ]
  }
 ],
 "metadata": {
  "kernelspec": {
   "display_name": "Python 3.10.6 ('geng5511')",
   "language": "python",
   "name": "python3"
  },
  "language_info": {
   "codemirror_mode": {
    "name": "ipython",
    "version": 3
   },
   "file_extension": ".py",
   "mimetype": "text/x-python",
   "name": "python",
   "nbconvert_exporter": "python",
   "pygments_lexer": "ipython3",
   "version": "3.10.6"
  },
  "orig_nbformat": 4,
  "vscode": {
   "interpreter": {
    "hash": "0d6b25e3d359dbcf5b3d012df9b4ff4bf9ad1ff150d1f4aeb5127ceac302af3e"
   }
  }
 },
 "nbformat": 4,
 "nbformat_minor": 2
}
