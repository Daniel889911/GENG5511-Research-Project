{
 "cells": [
  {
   "cell_type": "code",
   "execution_count": 1,
   "metadata": {},
   "outputs": [
    {
     "name": "stdout",
     "output_type": "stream",
     "text": [
      "[['Activity', 1, 1.0], ['Activity', 3, 1.0], ['Activity', 2, 1.0], ['Item', 1, 0.375], ['Item', 3, 0.75], ['Specifier', 1, 1.0], ['Specifier', 3, 1.0], ['Specifier', 2, 1.0], ['Observation/Observed_state', 1, 0.375], ['Observation/Observed_state', 3, 0.875], ['Observation/Observed_state', 2, 0.5], ['Location', 1, 0.875], ['Location', 3, 0.875], ['Location', 2, 0.875], ['Observation/Observed_state Abbreviation', 1, 0.875]]\n"
     ]
    }
   ],
   "source": [
    "from annotator import Annotator\n",
    "from label import Label_Metrics\n",
    "from ngram import Ngram_Metrics\n",
    "import graphs as gr\n",
    "\n",
    "caitlin = Annotator('caitlin', \"annotations-caitlinwoods.json\")\n",
    "tyler = Annotator('tyler', \"annotations-TBikaun.json\")\n",
    "ziyu = Annotator('ziyu', \"annotations-ziyu.zhao.json\")\n",
    "tim = Annotator('tim', \"annotations-Tim.json\")\n",
    "ngram = Ngram_Metrics(caitlin, ziyu, tim, tyler)\n",
    "corpus_metrics = ngram.get_corpus_metrics()\n",
    "label_ngram_metrics = ngram.get_label_ngram_metrics(corpus_metrics)\n",
    "print(label_ngram_metrics)"
   ]
  },
  {
   "cell_type": "code",
   "execution_count": null,
   "metadata": {},
   "outputs": [],
   "source": [
    "gr.create_heatmap(label_ngram_metrics)"
   ]
  }
 ],
 "metadata": {
  "kernelspec": {
   "display_name": "Python 3.10.6 ('geng5511')",
   "language": "python",
   "name": "python3"
  },
  "language_info": {
   "codemirror_mode": {
    "name": "ipython",
    "version": 3
   },
   "file_extension": ".py",
   "mimetype": "text/x-python",
   "name": "python",
   "nbconvert_exporter": "python",
   "pygments_lexer": "ipython3",
   "version": "3.10.6"
  },
  "orig_nbformat": 4,
  "vscode": {
   "interpreter": {
    "hash": "0d6b25e3d359dbcf5b3d012df9b4ff4bf9ad1ff150d1f4aeb5127ceac302af3e"
   }
  }
 },
 "nbformat": 4,
 "nbformat_minor": 2
}
