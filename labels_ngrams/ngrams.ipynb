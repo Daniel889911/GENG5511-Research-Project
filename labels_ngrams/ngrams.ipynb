{
 "cells": [
  {
   "cell_type": "code",
   "execution_count": 1,
   "metadata": {},
   "outputs": [],
   "source": [
    "from annotator import Annotator\n",
    "from ngrams import Label_Metrics\n",
    "import graphs as gr\n",
    "\n",
    "tyler = Annotator('tyler', \"annotations-TBikaun.json\")\n",
    "daniel = Annotator('daniel', \"annotations-danielsantosa.json\")\n",
    "caitlin = Annotator('caitlin', \"annotations-caitlinwoods.json\")\n",
    "ziyu = Annotator('ziyu', \"annotations-ziyu.zhao.json\")\n",
    "michael = Annotator('michael', \"annotations-mstewartuwa.json\")\n",
    "tim = Annotator('tim', \"annotations-Tim.json\")\n",
    "melinda = Annotator('melinda', \"annotations-mhodki.json\")\n",
    "label = Label_Metrics(ziyu, tyler, caitlin, tim)"
   ]
  },
  {
   "cell_type": "code",
   "execution_count": 2,
   "metadata": {},
   "outputs": [
    {
     "ename": "AttributeError",
     "evalue": "'Label_Metrics' object has no attribute 'get_accumulated_table_ngrams'",
     "output_type": "error",
     "traceback": [
      "\u001b[1;31m---------------------------------------------------------------------------\u001b[0m",
      "\u001b[1;31mAttributeError\u001b[0m                            Traceback (most recent call last)",
      "\u001b[1;32mc:\\Users\\Daniel\\Documents\\GitHub\\GENG5511-Research-Project\\labels_ngrams\\ngrams.ipynb Cell 2\u001b[0m in \u001b[0;36m<cell line: 1>\u001b[1;34m()\u001b[0m\n\u001b[1;32m----> <a href='vscode-notebook-cell:/c%3A/Users/Daniel/Documents/GitHub/GENG5511-Research-Project/labels_ngrams/ngrams.ipynb#W1sZmlsZQ%3D%3D?line=0'>1</a>\u001b[0m overall_table_ngrams \u001b[39m=\u001b[39m label\u001b[39m.\u001b[39;49mget_accumulated_table_ngrams()\n\u001b[0;32m      <a href='vscode-notebook-cell:/c%3A/Users/Daniel/Documents/GitHub/GENG5511-Research-Project/labels_ngrams/ngrams.ipynb#W1sZmlsZQ%3D%3D?line=1'>2</a>\u001b[0m ngram_agreement_lists \u001b[39m=\u001b[39m label\u001b[39m.\u001b[39mget_ngrams_agreements_lists(overall_table_ngrams)\n\u001b[0;32m      <a href='vscode-notebook-cell:/c%3A/Users/Daniel/Documents/GitHub/GENG5511-Research-Project/labels_ngrams/ngrams.ipynb#W1sZmlsZQ%3D%3D?line=2'>3</a>\u001b[0m ngram_agreement_lists\n",
      "\u001b[1;31mAttributeError\u001b[0m: 'Label_Metrics' object has no attribute 'get_accumulated_table_ngrams'"
     ]
    }
   ],
   "source": [
    "overall_table_ngrams = label.get_accumulated_table_ngrams()\n",
    "ngram_agreement_lists = label.get_ngrams_agreements_lists(overall_table_ngrams)\n",
    "ngram_agreement_lists"
   ]
  },
  {
   "cell_type": "code",
   "execution_count": null,
   "metadata": {},
   "outputs": [],
   "source": [
    "gr.create_pie_chart-ngram(ngram_agreement_lists)"
   ]
  }
 ],
 "metadata": {
  "kernelspec": {
   "display_name": "Python 3.10.6 ('geng5511')",
   "language": "python",
   "name": "python3"
  },
  "language_info": {
   "codemirror_mode": {
    "name": "ipython",
    "version": 3
   },
   "file_extension": ".py",
   "mimetype": "text/x-python",
   "name": "python",
   "nbconvert_exporter": "python",
   "pygments_lexer": "ipython3",
   "version": "3.10.6"
  },
  "orig_nbformat": 4,
  "vscode": {
   "interpreter": {
    "hash": "0d6b25e3d359dbcf5b3d012df9b4ff4bf9ad1ff150d1f4aeb5127ceac302af3e"
   }
  }
 },
 "nbformat": 4,
 "nbformat_minor": 2
}
