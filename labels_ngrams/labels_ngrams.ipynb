{
 "cells": [
  {
   "cell_type": "code",
   "execution_count": 1,
   "metadata": {},
   "outputs": [],
   "source": [
    "from annotator import Annotator\n",
    "from labels_ngrams import Labels_Ngram_Metrics\n",
    "import graphs as gr\n",
    "\n",
    "tyler = Annotator('tyler', \"annotations-TBikaun.json\")\n",
    "daniel = Annotator('daniel', \"annotations-danielsantosa.json\")\n",
    "caitlin = Annotator('caitlin', \"annotations-caitlinwoods.json\")\n",
    "ziyu = Annotator('ziyu', \"annotations-ziyu.zhao.json\")\n",
    "michael = Annotator('michael', \"annotations-mstewartuwa.json\")\n",
    "tim = Annotator('tim', \"annotations-Tim.json\")\n",
    "melinda = Annotator('melinda', \"annotations-mhodki.json\")\n",
    "label = Labels_Ngram_Metrics(ziyu, tyler, caitlin, tim)"
   ]
  },
  {
   "cell_type": "code",
   "execution_count": 2,
   "metadata": {},
   "outputs": [
    {
     "data": {
      "text/plain": [
       "{1: ([{'Activity': [2, 0]},\n",
       "   {'Observation/Observed_state': [2, 1]},\n",
       "   {'Specifier': [1, 0]},\n",
       "   {'None': [0, 4]},\n",
       "   {'Location': [0, 1]},\n",
       "   {'Item': [10, 1]}],\n",
       "  [15, 7]),\n",
       " 3: ([{'None': [0, 2]},\n",
       "   {'Item': [0, 1]},\n",
       "   {'Observation/Observed_state': [0, 1]}],\n",
       "  [0, 3]),\n",
       " 2: ([{'None': [0, 1]}, {'Observation/Observed_state': [3, 2]}], [5, 1])}"
      ]
     },
     "execution_count": 2,
     "metadata": {},
     "output_type": "execute_result"
    }
   ],
   "source": [
    "table = label.get_accumulated_table_ngrams()\n",
    "ngram_agreement_lists = label.get_labels_ngrams_metrics(table)\n",
    "ngram_agreement_lists"
   ]
  },
  {
   "cell_type": "code",
   "execution_count": 3,
   "metadata": {},
   "outputs": [
    {
     "ename": "TypeError",
     "evalue": "unsupported operand type(s) for /: 'list' and 'list'",
     "output_type": "error",
     "traceback": [
      "\u001b[1;31m---------------------------------------------------------------------------\u001b[0m",
      "\u001b[1;31mTypeError\u001b[0m                                 Traceback (most recent call last)",
      "\u001b[1;32mc:\\Users\\Daniel\\Documents\\GitHub\\GENG5511-Research-Project\\labels_ngrams\\labels_ngrams.ipynb Cell 3\u001b[0m in \u001b[0;36m<cell line: 1>\u001b[1;34m()\u001b[0m\n\u001b[1;32m----> <a href='vscode-notebook-cell:/c%3A/Users/Daniel/Documents/GitHub/GENG5511-Research-Project/labels_ngrams/labels_ngrams.ipynb#W6sZmlsZQ%3D%3D?line=0'>1</a>\u001b[0m label_percentages \u001b[39m=\u001b[39m label\u001b[39m.\u001b[39;49mcalculate_label_percentage_agreements(ngram_agreement_lists)\n\u001b[0;32m      <a href='vscode-notebook-cell:/c%3A/Users/Daniel/Documents/GitHub/GENG5511-Research-Project/labels_ngrams/labels_ngrams.ipynb#W6sZmlsZQ%3D%3D?line=1'>2</a>\u001b[0m label_percentages\n",
      "File \u001b[1;32mc:\\Users\\Daniel\\Documents\\GitHub\\GENG5511-Research-Project\\labels_ngrams\\labels_ngrams.py:168\u001b[0m, in \u001b[0;36mLabels_Ngram_Metrics.calculate_label_percentage_agreements\u001b[1;34m(self, label_metrics_list)\u001b[0m\n\u001b[0;32m    165\u001b[0m \u001b[39m# Loop through all the labels in label_metrics_list\u001b[39;00m\n\u001b[0;32m    166\u001b[0m \u001b[39mfor\u001b[39;00m label, metrics \u001b[39min\u001b[39;00m label_metrics_list\u001b[39m.\u001b[39mitems():\n\u001b[0;32m    167\u001b[0m     \u001b[39m# Get the metrics for the current label\u001b[39;00m\n\u001b[1;32m--> 168\u001b[0m     label_percentage_agreements[label] \u001b[39m=\u001b[39m metrics[\u001b[39m0\u001b[39;49m]\u001b[39m/\u001b[39;49m(metrics[\u001b[39m0\u001b[39;49m] \u001b[39m+\u001b[39;49m metrics[\u001b[39m1\u001b[39;49m])\n\u001b[0;32m    169\u001b[0m \u001b[39mreturn\u001b[39;00m label_percentage_agreements\n",
      "\u001b[1;31mTypeError\u001b[0m: unsupported operand type(s) for /: 'list' and 'list'"
     ]
    }
   ],
   "source": [
    "label_percentages = label.calculate_label_percentage_agreements(ngram_agreement_lists)\n",
    "label_percentages"
   ]
  }
 ],
 "metadata": {
  "kernelspec": {
   "display_name": "Python 3.10.6 ('geng5511')",
   "language": "python",
   "name": "python3"
  },
  "language_info": {
   "codemirror_mode": {
    "name": "ipython",
    "version": 3
   },
   "file_extension": ".py",
   "mimetype": "text/x-python",
   "name": "python",
   "nbconvert_exporter": "python",
   "pygments_lexer": "ipython3",
   "version": "3.10.6"
  },
  "orig_nbformat": 4,
  "vscode": {
   "interpreter": {
    "hash": "0d6b25e3d359dbcf5b3d012df9b4ff4bf9ad1ff150d1f4aeb5127ceac302af3e"
   }
  }
 },
 "nbformat": 4,
 "nbformat_minor": 2
}
