{
 "cells": [
  {
   "cell_type": "code",
   "execution_count": 1,
   "metadata": {},
   "outputs": [],
   "source": [
    "from annotator import Annotator\n",
    "from labels_ngrams import Labels_Ngram_Metrics\n",
    "import graphs as gr\n",
    "\n",
    "tyler = Annotator('tyler', \"annotations-TBikaun.json\")\n",
    "daniel = Annotator('daniel', \"annotations-danielsantosa.json\")\n",
    "caitlin = Annotator('caitlin', \"annotations-caitlinwoods.json\")\n",
    "ziyu = Annotator('ziyu', \"annotations-ziyu.zhao.json\")\n",
    "michael = Annotator('michael', \"annotations-mstewartuwa.json\")\n",
    "tim = Annotator('tim', \"annotations-Tim.json\")\n",
    "melinda = Annotator('melinda', \"annotations-mhodki.json\")\n",
    "label = Labels_Ngram_Metrics(ziyu, tyler, caitlin, tim)"
   ]
  },
  {
   "cell_type": "code",
   "execution_count": 2,
   "metadata": {},
   "outputs": [
    {
     "data": {
      "text/plain": [
       "[[1, 5, 17], [2, 3, 3], [3, 0, 3]]"
      ]
     },
     "execution_count": 2,
     "metadata": {},
     "output_type": "execute_result"
    }
   ],
   "source": [
    "overall_table_ngrams = label.get_accumulated_table_ngrams()\n",
    "ngram_agreement_lists = label.get_ngrams_agreements_lists(overall_table_ngrams)\n",
    "ngram_agreement_lists"
   ]
  },
  {
   "cell_type": "code",
   "execution_count": 4,
   "metadata": {},
   "outputs": [],
   "source": [
    "list_of_labels_ngrams = label.get_list_labels_for_ngrams(overall_table_ngrams)"
   ]
  },
  {
   "cell_type": "code",
   "execution_count": 5,
   "metadata": {},
   "outputs": [
    {
     "data": {
      "text/plain": [
       "{1: ['None',\n",
       "  'Activity',\n",
       "  'Specifier',\n",
       "  'Item',\n",
       "  'Observation/Observed_state',\n",
       "  'Unsure',\n",
       "  'Location',\n",
       "  'Cardinality Observation',\n",
       "  'Observation/Quantitative'],\n",
       " 3: ['Item',\n",
       "  'Observation/Observed_state',\n",
       "  'None',\n",
       "  'Observation/Observed_state Abbreviation'],\n",
       " 2: ['None',\n",
       "  'Observation/Observed_state',\n",
       "  'Observation/Qualitative',\n",
       "  'Item',\n",
       "  'Observation Observation/Observed_state',\n",
       "  'Observation']}"
      ]
     },
     "execution_count": 5,
     "metadata": {},
     "output_type": "execute_result"
    }
   ],
   "source": [
    "list_of_labels_ngrams"
   ]
  },
  {
   "cell_type": "code",
   "execution_count": 6,
   "metadata": {},
   "outputs": [
    {
     "data": {
      "text/plain": [
       "[['Location', 0, 1],\n",
       " ['Activity', 0, 2],\n",
       " ['Specifier', 0, 1],\n",
       " ['None', 0, 7],\n",
       " ['Observation/Observed_state', 0, 9],\n",
       " ['Item', 0, 12]]"
      ]
     },
     "execution_count": 6,
     "metadata": {},
     "output_type": "execute_result"
    }
   ],
   "source": [
    "overall_table_labels = label.get_accumulated_table_labels()\n",
    "labels_agreement_lists = label.get_label_agreements_lists(overall_table_ngrams)\n",
    "labels_agreement_lists"
   ]
  }
 ],
 "metadata": {
  "kernelspec": {
   "display_name": "Python 3.10.6 ('geng5511')",
   "language": "python",
   "name": "python3"
  },
  "language_info": {
   "codemirror_mode": {
    "name": "ipython",
    "version": 3
   },
   "file_extension": ".py",
   "mimetype": "text/x-python",
   "name": "python",
   "nbconvert_exporter": "python",
   "pygments_lexer": "ipython3",
   "version": "3.10.6"
  },
  "orig_nbformat": 4,
  "vscode": {
   "interpreter": {
    "hash": "0d6b25e3d359dbcf5b3d012df9b4ff4bf9ad1ff150d1f4aeb5127ceac302af3e"
   }
  }
 },
 "nbformat": 4,
 "nbformat_minor": 2
}
