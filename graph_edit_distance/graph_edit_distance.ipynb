{
 "cells": [
  {
   "cell_type": "code",
   "execution_count": 1,
   "metadata": {},
   "outputs": [],
   "source": [
    "from annotator import Annotator\n",
    "from graph_edit_distance import Label_Metrics\n",
    "import graphs as gr\n",
    "import networkx as nx\n",
    "import numpy as np\n",
    "import pandas as pd\n",
    "\n",
    "tyler = Annotator('tyler', \"annotations-TBikaun.json\")\n",
    "daniel = Annotator('daniel', \"annotations-danielsantosa.json\")\n",
    "caitlin = Annotator('caitlin', \"annotations-caitlinwoods.json\")\n",
    "ziyu = Annotator('ziyu', \"annotations-ziyu.zhao.json\")\n",
    "michael = Annotator('michael', \"annotations-mstewartuwa.json\")\n",
    "tim = Annotator('tim', \"annotations-Tim.json\")\n",
    "melinda = Annotator('melinda', \"annotations-mhodki.json\")\n",
    "label = Label_Metrics(ziyu, tyler, caitlin, tim)"
   ]
  },
  {
   "cell_type": "code",
   "execution_count": 2,
   "metadata": {},
   "outputs": [
    {
     "name": "stdout",
     "output_type": "stream",
     "text": [
      "annotator_id                              caitlin                         tim  \\\n",
      "token                                                                           \n",
      "head                                         None                        None   \n",
      "head proximity switch                        Item                        None   \n",
      "proximity switch                             None                        None   \n",
      "repair                                   Activity                    Activity   \n",
      "replace                                  Activity                    Activity   \n",
      "240v                                    Specifier                   Specifier   \n",
      "circuit                                      Item                        Item   \n",
      "damaged                Observation/Observed_state  Observation/Observed_state   \n",
      "inverter                                     Item                        Item   \n",
      "has no output.         Observation/Observed_state  Observation/Observed_state   \n",
      "inverter                                     Item                        Item   \n",
      "no                                           None                        None   \n",
      "output.                                      None                        None   \n",
      "inverter                                     Item                        Item   \n",
      "keeps tripping         Observation/Observed_state  Observation/Observed_state   \n",
      "on                                           None                    Location   \n",
      "inverter                                     Item                        Item   \n",
      "not working            Observation/Observed_state  Observation/Observed_state   \n",
      "inverter                                     Item                        Item   \n",
      "not working.           Observation/Observed_state  Observation/Observed_state   \n",
      "inverter                                     Item                        Item   \n",
      "playing up             Observation/Observed_state     Observation/Qualitative   \n",
      "inverter                                     Item                        Item   \n",
      "tripped out            Observation/Observed_state  Observation/Observed_state   \n",
      "inverter                                     Item                        Item   \n",
      "tripping               Observation/Observed_state  Observation/Observed_state   \n",
      "e/l                                        Unsure                        Item   \n",
      "inverter                                     Item                        Item   \n",
      "on                                       Location                    Location   \n",
      "tripping               Observation/Observed_state  Observation/Observed_state   \n",
      "tripping on e/l                              None                        None   \n",
      "\n",
      "annotator_id                                             tyler  \\\n",
      "token                                                            \n",
      "head                                                 Specifier   \n",
      "head proximity switch                                     None   \n",
      "proximity switch                                          Item   \n",
      "repair                                                Activity   \n",
      "replace                                               Activity   \n",
      "240v                                                 Specifier   \n",
      "circuit                                                   Item   \n",
      "damaged                             Observation/Observed_state   \n",
      "inverter                                                  Item   \n",
      "has no output.                      Observation/Observed_state   \n",
      "inverter                                                  Item   \n",
      "no                                                        None   \n",
      "output.                                                   None   \n",
      "inverter                                                  Item   \n",
      "keeps tripping                      Observation/Observed_state   \n",
      "on                                                        None   \n",
      "inverter                                                  Item   \n",
      "not working                         Observation/Observed_state   \n",
      "inverter                                                  Item   \n",
      "not working.                        Observation/Observed_state   \n",
      "inverter                                                  Item   \n",
      "playing up                          Observation/Observed_state   \n",
      "inverter                                                  Item   \n",
      "tripped out                         Observation/Observed_state   \n",
      "inverter                                                  Item   \n",
      "tripping                            Observation/Observed_state   \n",
      "e/l                                                       None   \n",
      "inverter                                                  Item   \n",
      "on                                                        None   \n",
      "tripping                                                  None   \n",
      "tripping on e/l        Observation/Observed_state Abbreviation   \n",
      "\n",
      "annotator_id                                             ziyu  \n",
      "token                                                          \n",
      "head                                                     None  \n",
      "head proximity switch                                    Item  \n",
      "proximity switch                                         None  \n",
      "repair                                               Activity  \n",
      "replace                                              Activity  \n",
      "240v                                                Specifier  \n",
      "circuit                                                  Item  \n",
      "damaged                            Observation/Observed_state  \n",
      "inverter                                                 Item  \n",
      "has no output.                                           None  \n",
      "inverter                                                 Item  \n",
      "no                                    Cardinality Observation  \n",
      "output.                              Observation/Quantitative  \n",
      "inverter                                                 Item  \n",
      "keeps tripping         Observation Observation/Observed_state  \n",
      "on                                                       None  \n",
      "inverter                                                 Item  \n",
      "not working                        Observation/Observed_state  \n",
      "inverter                                                 Item  \n",
      "not working.                       Observation/Observed_state  \n",
      "inverter                                                 Item  \n",
      "playing up                                        Observation  \n",
      "inverter                                                 Item  \n",
      "tripped out                        Observation/Observed_state  \n",
      "inverter                                                 Item  \n",
      "tripping                           Observation/Observed_state  \n",
      "e/l                                                      Item  \n",
      "inverter                                                 Item  \n",
      "on                                                   Location  \n",
      "tripping                           Observation/Observed_state  \n",
      "tripping on e/l                                          None  \n"
     ]
    }
   ],
   "source": [
    "overall_table = label.get_accumulated_table()"
   ]
  },
  {
   "cell_type": "code",
   "execution_count": 3,
   "metadata": {},
   "outputs": [
    {
     "name": "stdout",
     "output_type": "stream",
     "text": [
      "Creating a DataFrame with 21 rows with same labels and 10 rows with different labels\n",
      "annotator_id                              caitlin                         tim  \\\n",
      "token                                                                           \n",
      "head                                    Specifier                   Specifier   \n",
      "head proximity switch                        Item                        Item   \n",
      "proximity switch                             Item                        Item   \n",
      "repair                                   Activity                    Activity   \n",
      "replace                                  Activity                    Activity   \n",
      "240v                                    Specifier                   Specifier   \n",
      "circuit                                      Item                        Item   \n",
      "damaged                Observation/Observed_state  Observation/Observed_state   \n",
      "inverter                                     Item                        Item   \n",
      "has no output.         Observation/Observed_state  Observation/Observed_state   \n",
      "inverter                                     Item                        Item   \n",
      "no                        Cardinality Observation     Cardinality Observation   \n",
      "output.                  Observation/Quantitative    Observation/Quantitative   \n",
      "inverter                                     Item                        Item   \n",
      "keeps tripping         Observation/Observed_state  Observation/Observed_state   \n",
      "on                                       Location                    Location   \n",
      "inverter                                     Item                        Item   \n",
      "not working            Observation/Observed_state  Observation/Observed_state   \n",
      "inverter                                     Item                        Item   \n",
      "not working.           Observation/Observed_state  Observation/Observed_state   \n",
      "inverter                                     Item                        Item   \n",
      "playing up             Observation/Observed_state                        Item   \n",
      "inverter                                     Item                    Activity   \n",
      "tripped out            Observation/Observed_state                        Item   \n",
      "inverter                                     Item                    Activity   \n",
      "tripping               Observation/Observed_state                    Activity   \n",
      "e/l                                        Unsure                   Specifier   \n",
      "inverter                                     Item                    Activity   \n",
      "on                                       Location  Observation/Observed_state   \n",
      "tripping               Observation/Observed_state                        Item   \n",
      "tripping on e/l                              None  Observation/Observed_state   \n",
      "\n",
      "annotator_id                                tyler                        ziyu  \n",
      "token                                                                          \n",
      "head                                    Specifier                   Specifier  \n",
      "head proximity switch                        Item                        Item  \n",
      "proximity switch                             Item                        Item  \n",
      "repair                                   Activity                    Activity  \n",
      "replace                                  Activity                    Activity  \n",
      "240v                                    Specifier                   Specifier  \n",
      "circuit                                      Item                        Item  \n",
      "damaged                Observation/Observed_state  Observation/Observed_state  \n",
      "inverter                                     Item                        Item  \n",
      "has no output.         Observation/Observed_state  Observation/Observed_state  \n",
      "inverter                                     Item                        Item  \n",
      "no                        Cardinality Observation     Cardinality Observation  \n",
      "output.                  Observation/Quantitative    Observation/Quantitative  \n",
      "inverter                                     Item                        Item  \n",
      "keeps tripping         Observation/Observed_state  Observation/Observed_state  \n",
      "on                                       Location                    Location  \n",
      "inverter                                     Item                        Item  \n",
      "not working            Observation/Observed_state  Observation/Observed_state  \n",
      "inverter                                     Item                        Item  \n",
      "not working.           Observation/Observed_state  Observation/Observed_state  \n",
      "inverter                                     Item                        Item  \n",
      "playing up                              Specifier                    Activity  \n",
      "inverter                                 Location                        Time  \n",
      "tripped out                              Activity                    Location  \n",
      "inverter                                 Location                        Time  \n",
      "tripping                                     Item                    Location  \n",
      "e/l                                          Item                    Activity  \n",
      "inverter                                 Location                        Time  \n",
      "on                                           Item                    Activity  \n",
      "tripping                                 Activity                    Location  \n",
      "tripping on e/l                              Item                    Activity  \n"
     ]
    }
   ],
   "source": [
    "percentage_same = 0.2\n",
    "result_df = label.create_df_same_different(percentage_same, overall_table)"
   ]
  },
  {
   "cell_type": "code",
   "execution_count": 4,
   "metadata": {},
   "outputs": [],
   "source": [
    "pd.set_option('display.max_rows', None)\n",
    "pivoted_table = label.pivot_to_long_format_graph_edit(result_df)"
   ]
  },
  {
   "cell_type": "code",
   "execution_count": 5,
   "metadata": {},
   "outputs": [
    {
     "name": "stdout",
     "output_type": "stream",
     "text": [
      "Graph Edit Distance between annotators:\n",
      "{('ziyu', 'tyler'): 14.0, ('ziyu', 'caitlin'): 14.0, ('ziyu', 'tim'): 16.0, ('tyler', 'caitlin'): 12.0, ('tyler', 'tim'): 6.0, ('caitlin', 'tim'): 10.0}\n"
     ]
    }
   ],
   "source": [
    "annotator_nodes = set(pivoted_table['annotator_id'])\n",
    "annotator_graphs = Label_Metrics.create_annotator_graphs(pivoted_table, annotator_nodes)\n",
    "pairwise_ged = Label_Metrics.calculate_pairwise_ged(annotator_graphs, annotator_nodes)\n",
    "print(\"Graph Edit Distance between annotators:\")\n",
    "print(pairwise_ged)"
   ]
  },
  {
   "cell_type": "code",
   "execution_count": 6,
   "metadata": {},
   "outputs": [
    {
     "name": "stdout",
     "output_type": "stream",
     "text": [
      "Pairwise Reliability:\n",
      "{('ziyu', 'tyler'): 0.7543859649122807, ('ziyu', 'caitlin'): 0.7543859649122807, ('ziyu', 'tim'): 0.7192982456140351, ('tyler', 'caitlin'): 0.7857142857142857, ('tyler', 'tim'): 0.8928571428571429, ('caitlin', 'tim'): 0.8214285714285714}\n"
     ]
    }
   ],
   "source": [
    "pairwise_reliability = Label_Metrics.calculate_pairwise_reliability(pairwise_ged, annotator_graphs)\n",
    "print(\"Pairwise Reliability:\")\n",
    "print(pairwise_reliability)\n",
    "\n",
    "overall_reliability = Label_Metrics.calculate_overall_reliability(pairwise_reliability)\n"
   ]
  },
  {
   "cell_type": "code",
   "execution_count": 7,
   "metadata": {},
   "outputs": [
    {
     "data": {
      "image/png": "[encoded data removed]",
      "text/plain": [
       "<Figure size 640x480 with 1 Axes>"
      ]
     },
     "metadata": {},
     "output_type": "display_data"
    }
   ],
   "source": [
    "gr.create_bar_chart(overall_reliability, \"Coefficients\", \"Values\",\"Coefficient Values\")"
   ]
  }
 ],
 "metadata": {
  "kernelspec": {
   "display_name": "Python 3.10.6 ('geng5511')",
   "language": "python",
   "name": "python3"
  },
  "language_info": {
   "codemirror_mode": {
    "name": "ipython",
    "version": 3
   },
   "file_extension": ".py",
   "mimetype": "text/x-python",
   "name": "python",
   "nbconvert_exporter": "python",
   "pygments_lexer": "ipython3",
   "version": "3.10.6"
  },
  "orig_nbformat": 4,
  "vscode": {
   "interpreter": {
    "hash": "0d6b25e3d359dbcf5b3d012df9b4ff4bf9ad1ff150d1f4aeb5127ceac302af3e"
   }
  }
 },
 "nbformat": 4,
 "nbformat_minor": 2
}
