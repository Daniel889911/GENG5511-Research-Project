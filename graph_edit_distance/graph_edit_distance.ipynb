{
 "cells": [
  {
   "cell_type": "code",
   "execution_count": 2,
   "metadata": {},
   "outputs": [],
   "source": [
    "from annotator import Annotator\n",
    "from graph_edit_distance import Label_Metrics\n",
    "from annotation_agreement import AnnotationAgreement\n",
    "import graphs as gr\n",
    "import networkx as nx\n",
    "import numpy as np\n",
    "\n",
    "tyler = Annotator('tyler', \"annotations-TBikaun.json\")\n",
    "daniel = Annotator('daniel', \"annotations-danielsantosa.json\")\n",
    "caitlin = Annotator('caitlin', \"annotations-caitlinwoods.json\")\n",
    "ziyu = Annotator('ziyu', \"annotations-ziyu.zhao.json\")\n",
    "michael = Annotator('michael', \"annotations-mstewartuwa.json\")\n",
    "tim = Annotator('tim', \"annotations-Tim.json\")\n",
    "melinda = Annotator('melinda', \"annotations-mhodki.json\")\n",
    "label = Label_Metrics(ziyu, tyler, caitlin, tim)\n",
    "label.get_same_doc_ids()\n",
    "label.same_docs\n",
    "table = label.create_all_annotations_table()"
   ]
  },
  {
   "cell_type": "code",
   "execution_count": 3,
   "metadata": {},
   "outputs": [
    {
     "name": "stdout",
     "output_type": "stream",
     "text": [
      "   annotator_id                  token                       label\n",
      "0          ziyu                 repair                    Activity\n",
      "1          ziyu                replace                    Activity\n",
      "2          ziyu  head proximity switch                        Item\n",
      "3         tyler                 repair                    Activity\n",
      "4         tyler                replace                    Activity\n",
      "..          ...                    ...                         ...\n",
      "9       caitlin                    e/l                      Unsure\n",
      "10          tim               inverter                        Item\n",
      "11          tim               tripping  Observation/Observed_state\n",
      "12          tim                     on                    Location\n",
      "13          tim                    e/l                        Item\n",
      "\n",
      "[100 rows x 3 columns]\n"
     ]
    }
   ],
   "source": [
    "print(table)"
   ]
  },
  {
   "cell_type": "code",
   "execution_count": null,
   "metadata": {},
   "outputs": [],
   "source": []
  },
  {
   "cell_type": "code",
   "execution_count": 2,
   "metadata": {},
   "outputs": [
    {
     "name": "stdout",
     "output_type": "stream",
     "text": [
      "Graph Edit Distance between annotators:\n",
      "{('tyler', 'ziyu'): 0.0, ('tyler', 'tim'): 0.0, ('tyler', 'caitlin'): 0.0, ('ziyu', 'tim'): 0.0, ('ziyu', 'caitlin'): 0.0, ('tim', 'caitlin'): 0.0}\n"
     ]
    }
   ],
   "source": [
    "annotator_nodes = set(table['annotator_id'])\n",
    "annotator_graphs = AnnotationAgreement.create_annotator_graphs(table, annotator_nodes)\n",
    "pairwise_ged = Label_Metrics.calculate_pairwise_ged(annotator_graphs, annotator_nodes)\n",
    "print(\"Graph Edit Distance between annotators:\")\n",
    "print(pairwise_ged)"
   ]
  },
  {
   "cell_type": "code",
   "execution_count": 3,
   "metadata": {},
   "outputs": [
    {
     "name": "stdout",
     "output_type": "stream",
     "text": [
      "Pairwise Reliability:\n",
      "{('tyler', 'ziyu'): 1.0, ('tyler', 'tim'): 1.0, ('tyler', 'caitlin'): 1.0, ('ziyu', 'tim'): 1.0, ('ziyu', 'caitlin'): 1.0, ('tim', 'caitlin'): 1.0}\n"
     ]
    }
   ],
   "source": [
    "pairwise_reliability = Label_Metrics.calculate_pairwise_reliability(pairwise_ged, annotator_graphs)\n",
    "print(\"Pairwise Reliability:\")\n",
    "print(pairwise_reliability)\n",
    "\n",
    "overall_reliability = Label_Metrics.calculate_overall_reliability(pairwise_reliability)\n"
   ]
  },
  {
   "cell_type": "code",
   "execution_count": 4,
   "metadata": {},
   "outputs": [
    {
     "data": {
      "image/png": "[encoded data removed]",
      "text/plain": [
       "<Figure size 640x480 with 1 Axes>"
      ]
     },
     "metadata": {},
     "output_type": "display_data"
    }
   ],
   "source": [
    "gr.create_bar_chart(overall_reliability, \"Coefficients\", \"Values\",\"Coefficient Values\")"
   ]
  }
 ],
 "metadata": {
  "kernelspec": {
   "display_name": "Python 3.10.6 ('geng5511')",
   "language": "python",
   "name": "python3"
  },
  "language_info": {
   "codemirror_mode": {
    "name": "ipython",
    "version": 3
   },
   "file_extension": ".py",
   "mimetype": "text/x-python",
   "name": "python",
   "nbconvert_exporter": "python",
   "pygments_lexer": "ipython3",
   "version": "3.10.6"
  },
  "orig_nbformat": 4,
  "vscode": {
   "interpreter": {
    "hash": "0d6b25e3d359dbcf5b3d012df9b4ff4bf9ad1ff150d1f4aeb5127ceac302af3e"
   }
  }
 },
 "nbformat": 4,
 "nbformat_minor": 2
}
