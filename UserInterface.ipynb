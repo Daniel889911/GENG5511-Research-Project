{
 "cells": [
  {
   "cell_type": "code",
   "execution_count": 6,
   "metadata": {},
   "outputs": [],
   "source": [
    "from annotator import Annotator\n",
    "from label import Label_Metrics\n",
    "from ngram import Ngram_Metrics\n",
    "\n",
    "caitlin = Annotator('caitlin', \"annotations-caitlinwoods.json\")\n",
    "ziyu = Annotator('ziyu', \"annotations-ziyu.zhao.json\")\n",
    "tim = Annotator('tim', \"annotations-Tim.json\")\n",
    "tyler = Annotator('tyler', \"annotations-TBikaun.json\")\n",
    "\n",
    "label = Label_Metrics(caitlin, ziyu, tim, tyler)\n",
    "annotated_corpus = label.get_corpus_metrics()\n",
    "label_metrics = label.get_label_metrics(annotated_corpus)\n"
   ]
  },
  {
   "cell_type": "code",
   "execution_count": 7,
   "metadata": {},
   "outputs": [
    {
     "name": "stdout",
     "output_type": "stream",
     "text": [
      "[['Activity', 2, 0], ['Item', 13, 2], ['Observation/Observed_state', 14, 11], ['Specifier', 15, 11], ['Location', 16, 12]]\n"
     ]
    }
   ],
   "source": [
    "print(l_metrics)"
   ]
  }
 ],
 "metadata": {
  "kernelspec": {
   "display_name": "Python 3.8.10",
   "language": "python",
   "name": "python3"
  },
  "language_info": {
   "codemirror_mode": {
    "name": "ipython",
    "version": 3
   },
   "file_extension": ".py",
   "mimetype": "text/x-python",
   "name": "python",
   "nbconvert_exporter": "python",
   "pygments_lexer": "ipython3",
   "version": "3.8.10"
  },
  "orig_nbformat": 4,
  "vscode": {
   "interpreter": {
    "hash": "280c27857ba5f296638a4affe7dd8804a199bde6a579fe208ca483adfb295910"
   }
  }
 },
 "nbformat": 4,
 "nbformat_minor": 2
}
