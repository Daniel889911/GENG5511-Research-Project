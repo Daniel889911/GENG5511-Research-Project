{
 "cells": [
  {
   "cell_type": "code",
   "execution_count": 1,
   "metadata": {},
   "outputs": [
    {
     "data": {
      "text/plain": [
       "{10, 11, 12, 13, 14, 15, 16, 17, 18, 19}"
      ]
     },
     "execution_count": 1,
     "metadata": {},
     "output_type": "execute_result"
    }
   ],
   "source": [
    "from annotator import Annotator\n",
    "from individual_text_metrics import Label_Metrics\n",
    "import graphs as gr\n",
    "\n",
    "tyler = Annotator('tyler', \"annotations-TBikaun.json\")\n",
    "daniel = Annotator('daniel', \"annotations-danielsantosa.json\")\n",
    "caitlin = Annotator('caitlin', \"annotations-caitlinwoods.json\")\n",
    "ziyu = Annotator('ziyu', \"annotations-ziyu.zhao.json\")\n",
    "michael = Annotator('michael', \"annotations-mstewartuwa.json\")\n",
    "tim = Annotator('tim', \"annotations-Tim.json\")\n",
    "melinda = Annotator('melinda', \"annotations-mhodki.json\")\n",
    "label = Label_Metrics(ziyu, tyler, caitlin, tim)\n",
    "label.get_same_doc_ids()"
   ]
  },
  {
   "cell_type": "code",
   "execution_count": 2,
   "metadata": {},
   "outputs": [
    {
     "name": "stdout",
     "output_type": "stream",
     "text": [
      "    low_agreement  medium_agreement  high_agreement\n",
      "0             NaN               NaN           blown\n",
      "1             NaN               NaN        carousel\n",
      "2             NaN               NaN            hose\n",
      "3             NaN               NaN           hose.\n",
      "4             NaN               NaN           hoses\n",
      "5             NaN               NaN          hoses.\n",
      "6             NaN               NaN        hyd hose\n",
      "7             NaN               NaN  index cylinder\n",
      "8             NaN               NaN            mast\n",
      "9             NaN               NaN      oil cooler\n",
      "10            NaN               NaN              on\n",
      "11            NaN               NaN       on top of\n",
      "12            NaN               NaN         replace\n",
      "13            NaN               NaN     slap wrench\n",
      "14            NaN               NaN  won \" t raise.\n"
     ]
    },
    {
     "name": "stderr",
     "output_type": "stream",
     "text": [
      "c:\\Users\\Daniel\\Documents\\GitHub\\GENG5511-Research-Project\\individual_text_metrics\\individual_text_metrics.py:144: FutureWarning: The default dtype for empty Series will be 'object' instead of 'float64' in a future version. Specify a dtype explicitly to silence this warning.\n",
      "  new_df = pd.DataFrame({'low_agreement': pd.Series(low_agreement), 'medium_agreement': pd.Series(medium_agreement), 'high_agreement': pd.Series(high_agreement)})\n"
     ]
    }
   ],
   "source": [
    "annotated_df = label.get_all_annotators_tokens_labels_all_docs()\n",
    "table = label.create_individual_text_metrics_table(annotated_df)\n",
    "text_metrics = label.calculate_individual_text_metrics_all_docs(table)\n",
    "print(text_metrics)\n"
   ]
  }
 ],
 "metadata": {
  "kernelspec": {
   "display_name": "Python 3.10.6 ('geng5511')",
   "language": "python",
   "name": "python3"
  },
  "language_info": {
   "codemirror_mode": {
    "name": "ipython",
    "version": 3
   },
   "file_extension": ".py",
   "mimetype": "text/x-python",
   "name": "python",
   "nbconvert_exporter": "python",
   "pygments_lexer": "ipython3",
   "version": "3.10.6"
  },
  "orig_nbformat": 4,
  "vscode": {
   "interpreter": {
    "hash": "0d6b25e3d359dbcf5b3d012df9b4ff4bf9ad1ff150d1f4aeb5127ceac302af3e"
   }
  }
 },
 "nbformat": 4,
 "nbformat_minor": 2
}
