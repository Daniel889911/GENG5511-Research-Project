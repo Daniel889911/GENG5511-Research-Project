{
 "cells": [
  {
   "cell_type": "code",
   "execution_count": 1,
   "metadata": {},
   "outputs": [],
   "source": [
    "from annotator import Annotator\n",
    "from individual_text_metrics import Label_Metrics\n",
    "import graphs as gr\n",
    "import pandas as pd\n",
    "\n",
    "annotator1 = Annotator('annotator1', \"annotations-TBikaun.json\")\n",
    "annotator2 = Annotator('annotator2', \"annotations-ziyu.zhao.json\")\n",
    "annotator3 = Annotator('annotator3', \"annotations-danielsantosa.json\")\n",
    "annotator4 = Annotator('annotator4', \"annotations-mhodki.json\")\n",
    "annotator5 = Annotator('annotator5', \"annotations-mstewartuwa.json\")\n",
    "annotator6 = Annotator('annotator6', \"annotations-caitlinwoods.json\")\n",
    "annotator7 = Annotator('annotator7', \"annotations-Tim.json\")\n",
    "label = Label_Metrics(annotator1, annotator2, annotator3)"
   ]
  },
  {
   "cell_type": "code",
   "execution_count": 2,
   "metadata": {},
   "outputs": [
    {
     "name": "stderr",
     "output_type": "stream",
     "text": [
      "c:\\Users\\Daniel\\Documents\\GitHub\\GENG5511-Research-Project\\individual_text_metrics\\individual_text_metrics.py:149: FutureWarning: The default dtype for empty Series will be 'object' instead of 'float64' in a future version. Specify a dtype explicitly to silence this warning.\n",
      "  new_df = pd.DataFrame({'lowest_agreement': pd.Series(lowest_agreement), 'medium_low_agreement': pd.Series(medium_low_agreement), 'medium_agreement': pd.Series(medium_agreement), \\\n"
     ]
    },
    {
     "data": {
      "text/html": [
       "<div>\n",
       "<style scoped>\n",
       "    .dataframe tbody tr th:only-of-type {\n",
       "        vertical-align: middle;\n",
       "    }\n",
       "\n",
       "    .dataframe tbody tr th {\n",
       "        vertical-align: top;\n",
       "    }\n",
       "\n",
       "    .dataframe thead th {\n",
       "        text-align: right;\n",
       "    }\n",
       "</style>\n",
       "<table border=\"1\" class=\"dataframe\">\n",
       "  <thead>\n",
       "    <tr style=\"text-align: right;\">\n",
       "      <th></th>\n",
       "      <th>lowest_agreement</th>\n",
       "      <th>medium_low_agreement</th>\n",
       "      <th>medium_agreement</th>\n",
       "      <th>medium_high_agreement</th>\n",
       "      <th>high_agreement</th>\n",
       "    </tr>\n",
       "  </thead>\n",
       "  <tbody>\n",
       "    <tr>\n",
       "      <th>0</th>\n",
       "      <td>\"</td>\n",
       "      <td>NaN</td>\n",
       "      <td>NaN</td>\n",
       "      <td>/modify</td>\n",
       "      <td>access step</td>\n",
       "    </tr>\n",
       "    <tr>\n",
       "      <th>1</th>\n",
       "      <td>#</td>\n",
       "      <td>NaN</td>\n",
       "      <td>NaN</td>\n",
       "      <td>/refurbish</td>\n",
       "      <td>accessory</td>\n",
       "    </tr>\n",
       "    <tr>\n",
       "      <th>2</th>\n",
       "      <td>&amp;</td>\n",
       "      <td>NaN</td>\n",
       "      <td>NaN</td>\n",
       "      <td>3</td>\n",
       "      <td>adjust</td>\n",
       "    </tr>\n",
       "    <tr>\n",
       "      <th>3</th>\n",
       "      <td>&amp;air</td>\n",
       "      <td>NaN</td>\n",
       "      <td>NaN</td>\n",
       "      <td>9</td>\n",
       "      <td>air tank</td>\n",
       "    </tr>\n",
       "    <tr>\n",
       "      <th>4</th>\n",
       "      <td>-</td>\n",
       "      <td>NaN</td>\n",
       "      <td>NaN</td>\n",
       "      <td>access</td>\n",
       "      <td>at</td>\n",
       "    </tr>\n",
       "    <tr>\n",
       "      <th>5</th>\n",
       "      <td>.</td>\n",
       "      <td>NaN</td>\n",
       "      <td>NaN</td>\n",
       "      <td>accumulator</td>\n",
       "      <td>at rear</td>\n",
       "    </tr>\n",
       "    <tr>\n",
       "      <th>6</th>\n",
       "      <td>/</td>\n",
       "      <td>NaN</td>\n",
       "      <td>NaN</td>\n",
       "      <td>aux</td>\n",
       "      <td>auxilary</td>\n",
       "    </tr>\n",
       "    <tr>\n",
       "      <th>7</th>\n",
       "      <td>1</td>\n",
       "      <td>NaN</td>\n",
       "      <td>NaN</td>\n",
       "      <td>before</td>\n",
       "      <td>between</td>\n",
       "    </tr>\n",
       "    <tr>\n",
       "      <th>8</th>\n",
       "      <td>5</td>\n",
       "      <td>NaN</td>\n",
       "      <td>NaN</td>\n",
       "      <td>bent</td>\n",
       "      <td>bull hose</td>\n",
       "    </tr>\n",
       "    <tr>\n",
       "      <th>9</th>\n",
       "      <td>?</td>\n",
       "      <td>NaN</td>\n",
       "      <td>NaN</td>\n",
       "      <td>block</td>\n",
       "      <td>button</td>\n",
       "    </tr>\n",
       "  </tbody>\n",
       "</table>\n",
       "</div>"
      ],
      "text/plain": [
       "  lowest_agreement  medium_low_agreement  medium_agreement  \\\n",
       "0                \"                   NaN               NaN   \n",
       "1                #                   NaN               NaN   \n",
       "2                &                   NaN               NaN   \n",
       "3             &air                   NaN               NaN   \n",
       "4                -                   NaN               NaN   \n",
       "5                .                   NaN               NaN   \n",
       "6                /                   NaN               NaN   \n",
       "7                1                   NaN               NaN   \n",
       "8                5                   NaN               NaN   \n",
       "9                ?                   NaN               NaN   \n",
       "\n",
       "  medium_high_agreement high_agreement  \n",
       "0               /modify    access step  \n",
       "1            /refurbish      accessory  \n",
       "2                     3         adjust  \n",
       "3                     9       air tank  \n",
       "4                access             at  \n",
       "5           accumulator        at rear  \n",
       "6                   aux       auxilary  \n",
       "7                before        between  \n",
       "8                  bent      bull hose  \n",
       "9                 block         button  "
      ]
     },
     "execution_count": 2,
     "metadata": {},
     "output_type": "execute_result"
    }
   ],
   "source": [
    "pd.set_option('display.max_rows', None)\n",
    "annotated_df = label.get_all_annotators_tokens_labels_all_docs()\n",
    "table = label.create_individual_text_metrics_table(annotated_df)\n",
    "text_metrics = label.create_agreement_summary(table)\n",
    "text_metrics.head(10)\n"
   ]
  },
  {
   "cell_type": "code",
   "execution_count": 4,
   "metadata": {},
   "outputs": [
    {
     "name": "stdout",
     "output_type": "stream",
     "text": [
      "['\"', '#', '&', '&air', '-', '.', '/', '1', '5', '?', '@', 'ITEM_ID', 'NA', '[', 'and', 'as', 'badly', 'blink', 'blown hose', 'blown hose.', 'blown hoses', 'blown hoses.', 'blown hyd hose', 'break', 'break out', 'break out dies', 'breakout', 'breathers', 'cab door', 'cab fluoros', 'cab glasses', 'cabin window', 'chains', 'circuit', 'coming', 'coming loose', 'control button', 'control light', 'cover bolts', 'cyl', 'cyl mounts', 'd', 'deck spanner', 'die holders', 'dip', 'discharge', 'discharge gauges', 'down', 'dril', 'drive', 'drive box', 'drive gearbox', 'drive tyre', 'dust', 'end', 'expansion connector', 'expansion joint', 'f', 'fan guard', 'fault', 'feed', 'feed line', 'flat', 'flood', 'flood light', 'flood light supply', 'fluoros', 'from rear', 'fuel', 'fuel tank breathers', 'gear', 'guide block', 'head', 'head guide', 'head guides', 'head packing', 'head slide', 'head slides', 'hose.', 'hoses.', 'hyd.', 'hyd. pipe', 'hydrauilc', 'hydraulic button', 'hydraulic control', 'in l/h/s', 'index', 'injection', 'input', 'jobs', 'joint', 'jumper', 'jumper hose', 'l/h/s', 'leak', 'leak jumper hose', 'leaking dust badly', 'level', 'level low', 'levelling', 'lh rear', 'lh rear jack', 'lh side', 'lifting', 'lifting crane', 'line wearing', 'lines', 'lock', 'locking', 'locking cylinder', 'loose', 'lube', 'm', 'manufacturer30', 'misc', 'misc jobs', 'motor', \"n't\", 'need attention', 'not', 'not stay shut', 'of', 'off', 'off the', 'oil feed', 'oil lines', 'oil tank', 'on the blink', 'out', 'out of wack', 'output', 'pin', 'pin deck spanner', 'pins', 'pipe pos.', 'pos', 'pos.', 'pos. cups', 'priming', 'probes', 'pull', 'raise.', 'rear accumulator', 'rear housing', 'regulator', 'replace blown hose', 'required', 'rods', 'rotary head guide', 'rotation', 'rotation pump', 'seper', 'shut', 'shut.', 'side', 'slap', 'slides', 'spanner', 'spanner hose', 'split', 'spool', 'station', 'stay', 'staying', 'step', 'stick', 'stop', 'sun', 'suppl', 'supply', 'system.', 't', 'temp', 'temp probes', 'the', 'tool', 'tool wrench', 'top', 'tyre', 'u/s', 'under rear', 'upper & middle', 'valve block', 'valve bypass', 'valve chest', 'vibration', 'wack', 'walkway', 'water', 'water [ pump', 'will', 'will not stay shut', 'wo', \"wo n't switch of\", 'won', 'won \" t raise.', 'wont', 'wont turn', 'working', 'wrench stop', 'wrench.']\n"
     ]
    }
   ],
   "source": [
    "low_agreement_list = text_metrics['lowest_agreement'].tolist()\n",
    "print(low_agreement_list)"
   ]
  }
 ],
 "metadata": {
  "kernelspec": {
   "display_name": "Python 3.10.6 ('geng5511')",
   "language": "python",
   "name": "python3"
  },
  "language_info": {
   "codemirror_mode": {
    "name": "ipython",
    "version": 3
   },
   "file_extension": ".py",
   "mimetype": "text/x-python",
   "name": "python",
   "nbconvert_exporter": "python",
   "pygments_lexer": "ipython3",
   "version": "3.10.6"
  },
  "orig_nbformat": 4,
  "vscode": {
   "interpreter": {
    "hash": "0d6b25e3d359dbcf5b3d012df9b4ff4bf9ad1ff150d1f4aeb5127ceac302af3e"
   }
  }
 },
 "nbformat": 4,
 "nbformat_minor": 2
}
