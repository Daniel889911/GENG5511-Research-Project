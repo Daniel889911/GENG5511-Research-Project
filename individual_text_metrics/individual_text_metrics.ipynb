{
 "cells": [
  {
   "cell_type": "code",
   "execution_count": 5,
   "metadata": {},
   "outputs": [
    {
     "data": {
      "text/plain": [
       "[40, 41, 42, 43, 44, 45, 46, 47, 48, 49]"
      ]
     },
     "execution_count": 5,
     "metadata": {},
     "output_type": "execute_result"
    }
   ],
   "source": [
    "from annotator import Annotator\n",
    "from individual_text_metrics import Label_Metrics\n",
    "import graphs as gr\n",
    "import krippendorff\n",
    "import numpy as np\n",
    "from irrCAC.raw import CAC\n",
    "\n",
    "tyler = Annotator('tyler', \"annotations-TBikaun.json\")\n",
    "tim = Annotator('tim', \"annotations-Tim.json\")\n",
    "caitlin = Annotator('caitlin', \"annotations-caitlinwoods.json\")\n",
    "ziyu = Annotator('ziyu', \"annotations-ziyu.zhao.json\")\n",
    "label = Label_Metrics(caitlin, ziyu, tim, tyler)\n",
    "label.get_same_doc_ids()"
   ]
  },
  {
   "cell_type": "code",
   "execution_count": 6,
   "metadata": {},
   "outputs": [
    {
     "name": "stdout",
     "output_type": "stream",
     "text": [
      "      low_agreement       medium_agreement high_agreement\n",
      "0              head                    e/l           240v\n",
      "1                no         has no output.        circuit\n",
      "2           output.  head proximity switch        damaged\n",
      "3  proximity switch         keeps tripping       inverter\n",
      "4   tripping on e/l            not working         repair\n",
      "5                             not working.        replace\n",
      "6                                       on               \n",
      "7                               playing up               \n",
      "8                              tripped out               \n",
      "9                                 tripping               \n"
     ]
    }
   ],
   "source": [
    "annotated_df = label.get_all_annotators_tokens_labels_all_docs()\n",
    "table = label.create_individual_text_metrics_table(annotated_df)\n",
    "text_metrics = label.calculate_individual_text_metrics_all_docs(table)\n",
    "print(text_metrics)\n"
   ]
  }
 ],
 "metadata": {
  "kernelspec": {
   "display_name": "Python 3.10.6 ('geng5511')",
   "language": "python",
   "name": "python3"
  },
  "language_info": {
   "codemirror_mode": {
    "name": "ipython",
    "version": 3
   },
   "file_extension": ".py",
   "mimetype": "text/x-python",
   "name": "python",
   "nbconvert_exporter": "python",
   "pygments_lexer": "ipython3",
   "version": "3.10.6"
  },
  "orig_nbformat": 4,
  "vscode": {
   "interpreter": {
    "hash": "0d6b25e3d359dbcf5b3d012df9b4ff4bf9ad1ff150d1f4aeb5127ceac302af3e"
   }
  }
 },
 "nbformat": 4,
 "nbformat_minor": 2
}
