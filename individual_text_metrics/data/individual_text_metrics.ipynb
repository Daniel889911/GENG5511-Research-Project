{
 "cells": [
  {
   "cell_type": "code",
   "execution_count": 1,
   "metadata": {},
   "outputs": [
    {
     "ename": "FileNotFoundError",
     "evalue": "[Errno 2] No such file or directory: 'data\\\\annotations-TBikaun.json'",
     "output_type": "error",
     "traceback": [
      "\u001b[1;31m---------------------------------------------------------------------------\u001b[0m",
      "\u001b[1;31mFileNotFoundError\u001b[0m                         Traceback (most recent call last)",
      "\u001b[1;32mc:\\Users\\Daniel\\Documents\\GitHub\\GENG5511-Research-Project\\individual_text_metrics\\data\\individual_text_metrics.ipynb Cell 1\u001b[0m in \u001b[0;36m<cell line: 8>\u001b[1;34m()\u001b[0m\n\u001b[0;32m      <a href='vscode-notebook-cell:/c%3A/Users/Daniel/Documents/GitHub/GENG5511-Research-Project/individual_text_metrics/data/individual_text_metrics.ipynb#W0sZmlsZQ%3D%3D?line=4'>5</a>\u001b[0m \u001b[39mimport\u001b[39;00m \u001b[39mnumpy\u001b[39;00m \u001b[39mas\u001b[39;00m \u001b[39mnp\u001b[39;00m\n\u001b[0;32m      <a href='vscode-notebook-cell:/c%3A/Users/Daniel/Documents/GitHub/GENG5511-Research-Project/individual_text_metrics/data/individual_text_metrics.ipynb#W0sZmlsZQ%3D%3D?line=5'>6</a>\u001b[0m \u001b[39mfrom\u001b[39;00m \u001b[39mirrCAC\u001b[39;00m\u001b[39m.\u001b[39;00m\u001b[39mraw\u001b[39;00m \u001b[39mimport\u001b[39;00m CAC\n\u001b[1;32m----> <a href='vscode-notebook-cell:/c%3A/Users/Daniel/Documents/GitHub/GENG5511-Research-Project/individual_text_metrics/data/individual_text_metrics.ipynb#W0sZmlsZQ%3D%3D?line=7'>8</a>\u001b[0m tyler \u001b[39m=\u001b[39m Annotator(\u001b[39m'\u001b[39;49m\u001b[39mtyler\u001b[39;49m\u001b[39m'\u001b[39;49m, \u001b[39m\"\u001b[39;49m\u001b[39mannotations-TBikaun.json\u001b[39;49m\u001b[39m\"\u001b[39;49m)\n\u001b[0;32m      <a href='vscode-notebook-cell:/c%3A/Users/Daniel/Documents/GitHub/GENG5511-Research-Project/individual_text_metrics/data/individual_text_metrics.ipynb#W0sZmlsZQ%3D%3D?line=8'>9</a>\u001b[0m tim \u001b[39m=\u001b[39m Annotator(\u001b[39m'\u001b[39m\u001b[39mtim\u001b[39m\u001b[39m'\u001b[39m, \u001b[39m\"\u001b[39m\u001b[39mannotations-Tim.json\u001b[39m\u001b[39m\"\u001b[39m)\n\u001b[0;32m     <a href='vscode-notebook-cell:/c%3A/Users/Daniel/Documents/GitHub/GENG5511-Research-Project/individual_text_metrics/data/individual_text_metrics.ipynb#W0sZmlsZQ%3D%3D?line=9'>10</a>\u001b[0m caitlin \u001b[39m=\u001b[39m Annotator(\u001b[39m'\u001b[39m\u001b[39mcaitlin\u001b[39m\u001b[39m'\u001b[39m, \u001b[39m\"\u001b[39m\u001b[39mannotations-caitlinwoods.json\u001b[39m\u001b[39m\"\u001b[39m)\n",
      "File \u001b[1;32mc:\\Users\\Daniel\\Documents\\GitHub\\GENG5511-Research-Project\\individual_text_metrics\\data\\annotator.py:19\u001b[0m, in \u001b[0;36mAnnotator.__init__\u001b[1;34m(self, name, person_annotations_file)\u001b[0m\n\u001b[0;32m     17\u001b[0m \u001b[39mself\u001b[39m\u001b[39m.\u001b[39mname \u001b[39m=\u001b[39m name\n\u001b[0;32m     18\u001b[0m \u001b[39mself\u001b[39m\u001b[39m.\u001b[39mperson_annotations_filepath \u001b[39m=\u001b[39m os\u001b[39m.\u001b[39mpath\u001b[39m.\u001b[39mjoin(\u001b[39m'\u001b[39m\u001b[39mdata\u001b[39m\u001b[39m'\u001b[39m, person_annotations_file)\n\u001b[1;32m---> 19\u001b[0m \u001b[39mwith\u001b[39;00m \u001b[39mopen\u001b[39;49m(\u001b[39mself\u001b[39;49m\u001b[39m.\u001b[39;49mperson_annotations_filepath) \u001b[39mas\u001b[39;00m json_file:\n\u001b[0;32m     20\u001b[0m     \u001b[39mself\u001b[39m\u001b[39m.\u001b[39mannotations \u001b[39m=\u001b[39m [json\u001b[39m.\u001b[39mloads(line) \u001b[39mfor\u001b[39;00m line \u001b[39min\u001b[39;00m \u001b[39mopen\u001b[39m(\u001b[39mself\u001b[39m\u001b[39m.\u001b[39mperson_annotations_filepath,\u001b[39m'\u001b[39m\u001b[39mr\u001b[39m\u001b[39m'\u001b[39m)]\n\u001b[0;32m     21\u001b[0m \u001b[39mself\u001b[39m\u001b[39m.\u001b[39mdoc_idxs \u001b[39m=\u001b[39m []\n",
      "\u001b[1;31mFileNotFoundError\u001b[0m: [Errno 2] No such file or directory: 'data\\\\annotations-TBikaun.json'"
     ]
    }
   ],
   "source": [
    "from annotator import Annotator\n",
    "from individual_text_metrics import Label_Metrics\n",
    "import graphs as gr\n",
    "import krippendorff\n",
    "import numpy as np\n",
    "from irrCAC.raw import CAC\n",
    "\n",
    "tyler = Annotator('tyler', \"annotations-TBikaun.json\")\n",
    "tim = Annotator('tim', \"annotations-Tim.json\")\n",
    "caitlin = Annotator('caitlin', \"annotations-caitlinwoods.json\")\n",
    "ziyu = Annotator('ziyu', \"annotations-ziyu.zhao.json\")\n",
    "label = Label_Metrics(caitlin, ziyu, tim, tyler)\n",
    "label.get_same_doc_ids()"
   ]
  },
  {
   "cell_type": "code",
   "execution_count": null,
   "metadata": {},
   "outputs": [],
   "source": [
    "annotated_df = label.get_all_annotators_tokens_labels_all_docs()\n",
    "table = label.create_individual_text_metrics_table(annotated_df)\n",
    "text_metrics = label.calculate_individual_text_metrics_all_docs(table)\n",
    "print(text_metrics)\n"
   ]
  }
 ],
 "metadata": {
  "kernelspec": {
   "display_name": "Python 3.10.6 ('geng5511')",
   "language": "python",
   "name": "python3"
  },
  "language_info": {
   "codemirror_mode": {
    "name": "ipython",
    "version": 3
   },
   "file_extension": ".py",
   "mimetype": "text/x-python",
   "name": "python",
   "nbconvert_exporter": "python",
   "pygments_lexer": "ipython3",
   "version": "3.10.6"
  },
  "orig_nbformat": 4,
  "vscode": {
   "interpreter": {
    "hash": "0d6b25e3d359dbcf5b3d012df9b4ff4bf9ad1ff150d1f4aeb5127ceac302af3e"
   }
  }
 },
 "nbformat": 4,
 "nbformat_minor": 2
}
