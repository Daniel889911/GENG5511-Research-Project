{
 "cells": [
  {
   "cell_type": "code",
   "execution_count": 1,
   "metadata": {},
   "outputs": [],
   "source": [
    "import warnings\n",
    "from annotator import Annotator\n",
    "from irr_coefficients import Label_Metrics\n",
    "import graphs as gr\n",
    "\n",
    "warnings.filterwarnings(\"ignore\", category=RuntimeWarning)\n",
    "tyler = Annotator('tyler', \"annotations-TBikaun.json\")\n",
    "daniel = Annotator('daniel', \"annotations-danielsantosa.json\")\n",
    "caitlin = Annotator('caitlin', \"annotations-caitlinwoods.json\")\n",
    "ziyu = Annotator('ziyu', \"annotations-ziyu.zhao.json\")\n",
    "michael = Annotator('michael', \"annotations-mstewartuwa.json\")\n",
    "tim = Annotator('tim', \"annotations-Tim.json\")\n",
    "melinda = Annotator('melinda', \"annotations-mhodki.json\")\n",
    "label = Label_Metrics(ziyu, tyler, caitlin, tim)"
   ]
  },
  {
   "cell_type": "code",
   "execution_count": 2,
   "metadata": {},
   "outputs": [
    {
     "ename": "AttributeError",
     "evalue": "'Label_Metrics' object has no attribute 'get_accumulated_table'",
     "output_type": "error",
     "traceback": [
      "\u001b[1;31m---------------------------------------------------------------------------\u001b[0m",
      "\u001b[1;31mAttributeError\u001b[0m                            Traceback (most recent call last)",
      "\u001b[1;32mc:\\Users\\Daniel\\Documents\\GitHub\\GENG5511-Research-Project\\irr_coefficients\\irr_coefficients.ipynb Cell 2\u001b[0m in \u001b[0;36m<cell line: 1>\u001b[1;34m()\u001b[0m\n\u001b[1;32m----> <a href='vscode-notebook-cell:/c%3A/Users/Daniel/Documents/GitHub/GENG5511-Research-Project/irr_coefficients/irr_coefficients.ipynb#X10sZmlsZQ%3D%3D?line=0'>1</a>\u001b[0m overall_table \u001b[39m=\u001b[39m label\u001b[39m.\u001b[39;49mget_accumulated_table()\n\u001b[0;32m      <a href='vscode-notebook-cell:/c%3A/Users/Daniel/Documents/GitHub/GENG5511-Research-Project/irr_coefficients/irr_coefficients.ipynb#X10sZmlsZQ%3D%3D?line=1'>2</a>\u001b[0m \u001b[39mprint\u001b[39m(overall_table)\n",
      "\u001b[1;31mAttributeError\u001b[0m: 'Label_Metrics' object has no attribute 'get_accumulated_table'"
     ]
    }
   ],
   "source": [
    "overall_table = label.get_accumulated_table()\n",
    "print(overall_table)"
   ]
  },
  {
   "cell_type": "code",
   "execution_count": null,
   "metadata": {},
   "outputs": [],
   "source": [
    "percentage_same = 0.99\n",
    "result_df = label.create_df_same_different(percentage_same, overall_table)\n",
    "print(result_df)"
   ]
  },
  {
   "cell_type": "code",
   "execution_count": null,
   "metadata": {},
   "outputs": [],
   "source": [
    "coefficients = label.calculate_coefficient_for_table(result_df)"
   ]
  },
  {
   "cell_type": "code",
   "execution_count": null,
   "metadata": {},
   "outputs": [],
   "source": [
    "gr.create_bar_chart(coefficients, \"Coefficients\", \"Values\",\"Coefficient Values\")"
   ]
  }
 ],
 "metadata": {
  "kernelspec": {
   "display_name": "Python 3.10.6 ('geng5511')",
   "language": "python",
   "name": "python3"
  },
  "language_info": {
   "codemirror_mode": {
    "name": "ipython",
    "version": 3
   },
   "file_extension": ".py",
   "mimetype": "text/x-python",
   "name": "python",
   "nbconvert_exporter": "python",
   "pygments_lexer": "ipython3",
   "version": "3.10.6"
  },
  "orig_nbformat": 4,
  "vscode": {
   "interpreter": {
    "hash": "0d6b25e3d359dbcf5b3d012df9b4ff4bf9ad1ff150d1f4aeb5127ceac302af3e"
   }
  }
 },
 "nbformat": 4,
 "nbformat_minor": 2
}
