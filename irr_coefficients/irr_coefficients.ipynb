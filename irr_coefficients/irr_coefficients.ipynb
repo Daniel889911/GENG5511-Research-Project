{
 "cells": [
  {
   "cell_type": "code",
   "execution_count": 1,
   "metadata": {},
   "outputs": [],
   "source": [
    "import warnings\n",
    "from annotator import Annotator\n",
    "from irr_coefficients import Label_Metrics\n",
    "import graphs as gr\n",
    "\n",
    "warnings.filterwarnings(\"ignore\", category=RuntimeWarning)\n",
    "tyler = Annotator('tyler', \"annotations-TBikaun.json\")\n",
    "daniel = Annotator('daniel', \"annotations-danielsantosa.json\")\n",
    "caitlin = Annotator('caitlin', \"annotations-caitlinwoods.json\")\n",
    "ziyu = Annotator('ziyu', \"annotations-ziyu.zhao.json\")\n",
    "michael = Annotator('michael', \"annotations-mstewartuwa.json\")\n",
    "tim = Annotator('tim', \"annotations-Tim.json\")\n",
    "melinda = Annotator('melinda', \"annotations-mhodki.json\")\n",
    "label = Label_Metrics(ziyu, tyler, daniel)\n",
    "coefficients = label.calculate_coefficient_for_all_docs()"
   ]
  },
  {
   "cell_type": "code",
   "execution_count": 2,
   "metadata": {},
   "outputs": [
    {
     "data": {
      "text/html": [
       "<div>\n",
       "<style scoped>\n",
       "    .dataframe tbody tr th:only-of-type {\n",
       "        vertical-align: middle;\n",
       "    }\n",
       "\n",
       "    .dataframe tbody tr th {\n",
       "        vertical-align: top;\n",
       "    }\n",
       "\n",
       "    .dataframe thead th {\n",
       "        text-align: right;\n",
       "    }\n",
       "</style>\n",
       "<table border=\"1\" class=\"dataframe\">\n",
       "  <thead>\n",
       "    <tr style=\"text-align: right;\">\n",
       "      <th>annotator_id</th>\n",
       "      <th>daniel</th>\n",
       "      <th>tyler</th>\n",
       "      <th>ziyu</th>\n",
       "    </tr>\n",
       "    <tr>\n",
       "      <th>token</th>\n",
       "      <th></th>\n",
       "      <th></th>\n",
       "      <th></th>\n",
       "    </tr>\n",
       "  </thead>\n",
       "  <tbody>\n",
       "    <tr>\n",
       "      <th>\"</th>\n",
       "      <td>Observation/Observed_state</td>\n",
       "      <td>None</td>\n",
       "      <td>None</td>\n",
       "    </tr>\n",
       "    <tr>\n",
       "      <th>mast</th>\n",
       "      <td>Item</td>\n",
       "      <td>Item</td>\n",
       "      <td>Item</td>\n",
       "    </tr>\n",
       "    <tr>\n",
       "      <th>raise.</th>\n",
       "      <td>Observation/Observed_state</td>\n",
       "      <td>None</td>\n",
       "      <td>None</td>\n",
       "    </tr>\n",
       "    <tr>\n",
       "      <th>t</th>\n",
       "      <td>Observation/Observed_state</td>\n",
       "      <td>None</td>\n",
       "      <td>None</td>\n",
       "    </tr>\n",
       "    <tr>\n",
       "      <th>won</th>\n",
       "      <td>Observation/Observed_state</td>\n",
       "      <td>None</td>\n",
       "      <td>None</td>\n",
       "    </tr>\n",
       "    <tr>\n",
       "      <th>...</th>\n",
       "      <td>...</td>\n",
       "      <td>...</td>\n",
       "      <td>...</td>\n",
       "    </tr>\n",
       "    <tr>\n",
       "      <th>oil</th>\n",
       "      <td>Item</td>\n",
       "      <td>Consumable</td>\n",
       "      <td>Consumable Specifier</td>\n",
       "    </tr>\n",
       "    <tr>\n",
       "      <th>pressure</th>\n",
       "      <td>Specifier</td>\n",
       "      <td>Attribute</td>\n",
       "      <td>Attribute</td>\n",
       "    </tr>\n",
       "    <tr>\n",
       "      <th>faulty</th>\n",
       "      <td>Attribute</td>\n",
       "      <td>Observation/Observed_state</td>\n",
       "      <td>Observation Observation/Observed_state</td>\n",
       "    </tr>\n",
       "    <tr>\n",
       "      <th>oil</th>\n",
       "      <td>Item</td>\n",
       "      <td>Consumable</td>\n",
       "      <td>Consumable</td>\n",
       "    </tr>\n",
       "    <tr>\n",
       "      <th>pressure gauge</th>\n",
       "      <td>Item</td>\n",
       "      <td>Item</td>\n",
       "      <td>Item</td>\n",
       "    </tr>\n",
       "  </tbody>\n",
       "</table>\n",
       "<p>818 rows × 3 columns</p>\n",
       "</div>"
      ],
      "text/plain": [
       "annotator_id                        daniel                       tyler  \\\n",
       "token                                                                    \n",
       "\"               Observation/Observed_state                        None   \n",
       "mast                                  Item                        Item   \n",
       "raise.          Observation/Observed_state                        None   \n",
       "t               Observation/Observed_state                        None   \n",
       "won             Observation/Observed_state                        None   \n",
       "...                                    ...                         ...   \n",
       "oil                                   Item                  Consumable   \n",
       "pressure                         Specifier                   Attribute   \n",
       "faulty                           Attribute  Observation/Observed_state   \n",
       "oil                                   Item                  Consumable   \n",
       "pressure gauge                        Item                        Item   \n",
       "\n",
       "annotator_id                                      ziyu  \n",
       "token                                                   \n",
       "\"                                                 None  \n",
       "mast                                              Item  \n",
       "raise.                                            None  \n",
       "t                                                 None  \n",
       "won                                               None  \n",
       "...                                                ...  \n",
       "oil                               Consumable Specifier  \n",
       "pressure                                     Attribute  \n",
       "faulty          Observation Observation/Observed_state  \n",
       "oil                                         Consumable  \n",
       "pressure gauge                                    Item  \n",
       "\n",
       "[818 rows x 3 columns]"
      ]
     },
     "execution_count": 2,
     "metadata": {},
     "output_type": "execute_result"
    }
   ],
   "source": [
    "coefficients[1]"
   ]
  },
  {
   "cell_type": "code",
   "execution_count": 3,
   "metadata": {},
   "outputs": [
    {
     "data": {
      "image/png": "[encoded data removed]",
      "text/plain": [
       "<Figure size 640x480 with 1 Axes>"
      ]
     },
     "metadata": {},
     "output_type": "display_data"
    }
   ],
   "source": [
    "gr.create_bar_chart(coefficients[0], \"Coefficients\", \"Values\",\"Coefficient Values\")"
   ]
  }
 ],
 "metadata": {
  "kernelspec": {
   "display_name": "Python 3.10.6 ('geng5511')",
   "language": "python",
   "name": "python3"
  },
  "language_info": {
   "codemirror_mode": {
    "name": "ipython",
    "version": 3
   },
   "file_extension": ".py",
   "mimetype": "text/x-python",
   "name": "python",
   "nbconvert_exporter": "python",
   "pygments_lexer": "ipython3",
   "version": "3.10.6"
  },
  "orig_nbformat": 4,
  "vscode": {
   "interpreter": {
    "hash": "0d6b25e3d359dbcf5b3d012df9b4ff4bf9ad1ff150d1f4aeb5127ceac302af3e"
   }
  }
 },
 "nbformat": 4,
 "nbformat_minor": 2
}
