{
 "cells": [
  {
   "cell_type": "code",
   "execution_count": 1,
   "metadata": {},
   "outputs": [],
   "source": [
    "import warnings\n",
    "from annotator import Annotator\n",
    "from irr_coefficients import Label_Metrics\n",
    "import graphs as gr\n",
    "import pandas as pd\n",
    "\n",
    "warnings.filterwarnings(\"ignore\", category=RuntimeWarning)\n",
    "tyler = Annotator('tyler', \"annotations-TBikaun.json\")\n",
    "daniel = Annotator('daniel', \"annotations-danielsantosa.json\")\n",
    "caitlin = Annotator('caitlin', \"annotations-caitlinwoods.json\")\n",
    "ziyu = Annotator('ziyu', \"annotations-ziyu.zhao.json\")\n",
    "michael = Annotator('michael', \"annotations-mstewartuwa.json\")\n",
    "tim = Annotator('tim', \"annotations-Tim.json\")\n",
    "melinda = Annotator('melinda', \"annotations-mhodki.json\")\n",
    "label = Label_Metrics(ziyu, tyler, caitlin, tim)"
   ]
  },
  {
   "cell_type": "code",
   "execution_count": 2,
   "metadata": {},
   "outputs": [
    {
     "name": "stdout",
     "output_type": "stream",
     "text": [
      "annotator_id                              caitlin                         tim  \\\n",
      "token                                                                           \n",
      "head                                         None                        None   \n",
      "head proximity switch                        Item                        None   \n",
      "proximity switch                             None                        None   \n",
      "repair                                   Activity                    Activity   \n",
      "replace                                  Activity                    Activity   \n",
      "240v                                    Specifier                   Specifier   \n",
      "circuit                                      Item                        Item   \n",
      "damaged                Observation/Observed_state  Observation/Observed_state   \n",
      "inverter                                     Item                        Item   \n",
      "has no output.         Observation/Observed_state  Observation/Observed_state   \n",
      "inverter                                     Item                        Item   \n",
      "no                                           None                        None   \n",
      "output.                                      None                        None   \n",
      "inverter                                     Item                        Item   \n",
      "keeps tripping         Observation/Observed_state  Observation/Observed_state   \n",
      "on                                           None                    Location   \n",
      "inverter                                     Item                        Item   \n",
      "not working            Observation/Observed_state  Observation/Observed_state   \n",
      "inverter                                     Item                        Item   \n",
      "not working.           Observation/Observed_state  Observation/Observed_state   \n",
      "inverter                                     Item                        Item   \n",
      "playing up             Observation/Observed_state     Observation/Qualitative   \n",
      "inverter                                     Item                        Item   \n",
      "tripped out            Observation/Observed_state  Observation/Observed_state   \n",
      "inverter                                     Item                        Item   \n",
      "tripping               Observation/Observed_state  Observation/Observed_state   \n",
      "e/l                                        Unsure                        Item   \n",
      "inverter                                     Item                        Item   \n",
      "on                                       Location                    Location   \n",
      "tripping               Observation/Observed_state  Observation/Observed_state   \n",
      "tripping on e/l                              None                        None   \n",
      "\n",
      "annotator_id                                             tyler  \\\n",
      "token                                                            \n",
      "head                                                 Specifier   \n",
      "head proximity switch                                     None   \n",
      "proximity switch                                          Item   \n",
      "repair                                                Activity   \n",
      "replace                                               Activity   \n",
      "240v                                                 Specifier   \n",
      "circuit                                                   Item   \n",
      "damaged                             Observation/Observed_state   \n",
      "inverter                                                  Item   \n",
      "has no output.                      Observation/Observed_state   \n",
      "inverter                                                  Item   \n",
      "no                                                        None   \n",
      "output.                                                   None   \n",
      "inverter                                                  Item   \n",
      "keeps tripping                      Observation/Observed_state   \n",
      "on                                                        None   \n",
      "inverter                                                  Item   \n",
      "not working                         Observation/Observed_state   \n",
      "inverter                                                  Item   \n",
      "not working.                        Observation/Observed_state   \n",
      "inverter                                                  Item   \n",
      "playing up                          Observation/Observed_state   \n",
      "inverter                                                  Item   \n",
      "tripped out                         Observation/Observed_state   \n",
      "inverter                                                  Item   \n",
      "tripping                            Observation/Observed_state   \n",
      "e/l                                                       None   \n",
      "inverter                                                  Item   \n",
      "on                                                        None   \n",
      "tripping                                                  None   \n",
      "tripping on e/l        Observation/Observed_state Abbreviation   \n",
      "\n",
      "annotator_id                                             ziyu  \n",
      "token                                                          \n",
      "head                                                     None  \n",
      "head proximity switch                                    Item  \n",
      "proximity switch                                         None  \n",
      "repair                                               Activity  \n",
      "replace                                              Activity  \n",
      "240v                                                Specifier  \n",
      "circuit                                                  Item  \n",
      "damaged                            Observation/Observed_state  \n",
      "inverter                                                 Item  \n",
      "has no output.                                           None  \n",
      "inverter                                                 Item  \n",
      "no                                    Cardinality Observation  \n",
      "output.                              Observation/Quantitative  \n",
      "inverter                                                 Item  \n",
      "keeps tripping         Observation Observation/Observed_state  \n",
      "on                                                       None  \n",
      "inverter                                                 Item  \n",
      "not working                        Observation/Observed_state  \n",
      "inverter                                                 Item  \n",
      "not working.                       Observation/Observed_state  \n",
      "inverter                                                 Item  \n",
      "playing up                                        Observation  \n",
      "inverter                                                 Item  \n",
      "tripped out                        Observation/Observed_state  \n",
      "inverter                                                 Item  \n",
      "tripping                           Observation/Observed_state  \n",
      "e/l                                                      Item  \n",
      "inverter                                                 Item  \n",
      "on                                                   Location  \n",
      "tripping                           Observation/Observed_state  \n",
      "tripping on e/l                                          None  \n"
     ]
    }
   ],
   "source": [
    "overall_table = label.get_accumulated_table()\n",
    "print(overall_table)"
   ]
  },
  {
   "cell_type": "code",
   "execution_count": 9,
   "metadata": {},
   "outputs": [
    {
     "name": "stdout",
     "output_type": "stream",
     "text": [
      "Creating a DataFrame with 18 rows with same labels and 13 rows with different labels\n",
      "annotator_id                              caitlin                         tim  \\\n",
      "token                                                                           \n",
      "head                                    Specifier                   Specifier   \n",
      "head proximity switch                        Item                        Item   \n",
      "proximity switch                             Item                        Item   \n",
      "repair                                   Activity                    Activity   \n",
      "replace                                  Activity                    Activity   \n",
      "240v                                    Specifier                   Specifier   \n",
      "circuit                                      Item                        Item   \n",
      "damaged                Observation/Observed_state  Observation/Observed_state   \n",
      "inverter                                     Item                        Item   \n",
      "has no output.         Observation/Observed_state  Observation/Observed_state   \n",
      "inverter                                     Item                        Item   \n",
      "no                        Cardinality Observation     Cardinality Observation   \n",
      "output.                  Observation/Quantitative    Observation/Quantitative   \n",
      "inverter                                     Item                        Item   \n",
      "keeps tripping         Observation/Observed_state  Observation/Observed_state   \n",
      "on                                       Location                    Location   \n",
      "inverter                                     Item                        Item   \n",
      "not working            Observation/Observed_state  Observation/Observed_state   \n",
      "inverter                                     Item                    Activity   \n",
      "not working.           Observation/Observed_state                        Item   \n",
      "inverter                                     Item                    Activity   \n",
      "playing up             Observation/Observed_state                    Activity   \n",
      "inverter                                     Item                    Activity   \n",
      "tripped out            Observation/Observed_state                   Specifier   \n",
      "inverter                                     Item                    Activity   \n",
      "tripping               Observation/Observed_state                        Item   \n",
      "e/l                                        Unsure                        Item   \n",
      "inverter                                     Item  Observation/Observed_state   \n",
      "on                                       Location                        Item   \n",
      "tripping               Observation/Observed_state                        Item   \n",
      "tripping on e/l                              None                        Item   \n",
      "\n",
      "annotator_id                                tyler                        ziyu  \n",
      "token                                                                          \n",
      "head                                    Specifier                   Specifier  \n",
      "head proximity switch                        Item                        Item  \n",
      "proximity switch                             Item                        Item  \n",
      "repair                                   Activity                    Activity  \n",
      "replace                                  Activity                    Activity  \n",
      "240v                                    Specifier                   Specifier  \n",
      "circuit                                      Item                        Item  \n",
      "damaged                Observation/Observed_state  Observation/Observed_state  \n",
      "inverter                                     Item                        Item  \n",
      "has no output.         Observation/Observed_state  Observation/Observed_state  \n",
      "inverter                                     Item                        Item  \n",
      "no                        Cardinality Observation     Cardinality Observation  \n",
      "output.                  Observation/Quantitative    Observation/Quantitative  \n",
      "inverter                                     Item                        Item  \n",
      "keeps tripping         Observation/Observed_state  Observation/Observed_state  \n",
      "on                                       Location                    Location  \n",
      "inverter                                     Item                        Item  \n",
      "not working            Observation/Observed_state  Observation/Observed_state  \n",
      "inverter                                Specifier                    Location  \n",
      "not working.                             Activity                    Location  \n",
      "inverter                                 Location                        Time  \n",
      "playing up                                   Item                    Location  \n",
      "inverter                                 Location                        Time  \n",
      "tripped out                                  Item                    Activity  \n",
      "inverter                                 Location                        Time  \n",
      "tripping                                 Activity                    Location  \n",
      "e/l                                      Activity                    Location  \n",
      "inverter                                 Activity                    Location  \n",
      "on                                       Activity                        Time  \n",
      "tripping                                 Activity                    Location  \n",
      "tripping on e/l                          Activity    Observation/Quantitative  \n"
     ]
    }
   ],
   "source": [
    "pd.set_option('display.max_rows', None)\n",
    "percentage_same = 0.6\n",
    "result_df = label.create_df_same_different(percentage_same, overall_table)\n",
    "print(result_df)"
   ]
  },
  {
   "cell_type": "code",
   "execution_count": 10,
   "metadata": {},
   "outputs": [],
   "source": [
    "coefficients = label.calculate_coefficient_for_table(result_df)"
   ]
  },
  {
   "cell_type": "code",
   "execution_count": 11,
   "metadata": {},
   "outputs": [
    {
     "data": {
      "image/png": "[encoded data removed]",
      "text/plain": [
       "<Figure size 640x480 with 1 Axes>"
      ]
     },
     "metadata": {},
     "output_type": "display_data"
    }
   ],
   "source": [
    "gr.create_bar_chart(coefficients, \"Coefficients\", \"Values\",\"Coefficient Values\")"
   ]
  }
 ],
 "metadata": {
  "kernelspec": {
   "display_name": "Python 3.10.6 ('geng5511')",
   "language": "python",
   "name": "python3"
  },
  "language_info": {
   "codemirror_mode": {
    "name": "ipython",
    "version": 3
   },
   "file_extension": ".py",
   "mimetype": "text/x-python",
   "name": "python",
   "nbconvert_exporter": "python",
   "pygments_lexer": "ipython3",
   "version": "3.10.6"
  },
  "orig_nbformat": 4,
  "vscode": {
   "interpreter": {
    "hash": "0d6b25e3d359dbcf5b3d012df9b4ff4bf9ad1ff150d1f4aeb5127ceac302af3e"
   }
  }
 },
 "nbformat": 4,
 "nbformat_minor": 2
}
