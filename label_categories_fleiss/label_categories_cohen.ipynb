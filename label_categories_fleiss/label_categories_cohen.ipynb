{
 "cells": [
  {
   "cell_type": "code",
   "execution_count": 1,
   "metadata": {},
   "outputs": [
    {
     "ename": "ModuleNotFoundError",
     "evalue": "No module named 'labels_ngrams_cohen'",
     "output_type": "error",
     "traceback": [
      "\u001b[1;31m---------------------------------------------------------------------------\u001b[0m",
      "\u001b[1;31mModuleNotFoundError\u001b[0m                       Traceback (most recent call last)",
      "\u001b[1;32mc:\\Users\\Daniel\\Documents\\GitHub\\GENG5511-Research-Project\\label_categories_fleiss\\label_categories_cohen.ipynb Cell 1\u001b[0m in \u001b[0;36m<cell line: 2>\u001b[1;34m()\u001b[0m\n\u001b[0;32m      <a href='vscode-notebook-cell:/c%3A/Users/Daniel/Documents/GitHub/GENG5511-Research-Project/label_categories_fleiss/label_categories_cohen.ipynb#W0sZmlsZQ%3D%3D?line=0'>1</a>\u001b[0m \u001b[39mfrom\u001b[39;00m \u001b[39mannotator\u001b[39;00m \u001b[39mimport\u001b[39;00m Annotator\n\u001b[1;32m----> <a href='vscode-notebook-cell:/c%3A/Users/Daniel/Documents/GitHub/GENG5511-Research-Project/label_categories_fleiss/label_categories_cohen.ipynb#W0sZmlsZQ%3D%3D?line=1'>2</a>\u001b[0m \u001b[39mfrom\u001b[39;00m \u001b[39mlabels_ngrams_cohen\u001b[39;00m \u001b[39mimport\u001b[39;00m Label_Metrics\n\u001b[0;32m      <a href='vscode-notebook-cell:/c%3A/Users/Daniel/Documents/GitHub/GENG5511-Research-Project/label_categories_fleiss/label_categories_cohen.ipynb#W0sZmlsZQ%3D%3D?line=2'>3</a>\u001b[0m \u001b[39mimport\u001b[39;00m \u001b[39mgraphs\u001b[39;00m \u001b[39mas\u001b[39;00m \u001b[39mgr\u001b[39;00m\n\u001b[0;32m      <a href='vscode-notebook-cell:/c%3A/Users/Daniel/Documents/GitHub/GENG5511-Research-Project/label_categories_fleiss/label_categories_cohen.ipynb#W0sZmlsZQ%3D%3D?line=3'>4</a>\u001b[0m \u001b[39mimport\u001b[39;00m \u001b[39mwarnings\u001b[39;00m\n",
      "\u001b[1;31mModuleNotFoundError\u001b[0m: No module named 'labels_ngrams_cohen'"
     ]
    }
   ],
   "source": [
    "from annotator import Annotator\n",
    "from labels_ngrams_cohen import Label_Metrics\n",
    "import graphs as gr\n",
    "import warnings\n",
    "import pandas as pd\n",
    "\n",
    "# warnings.filterwarnings(\"ignore\", category=RuntimeWarning)\n",
    "annotator1 = Annotator('annotator1', \"annotations-TBikaun.json\")\n",
    "annotator2 = Annotator('annotator2', \"annotations-ziyu.zhao.json\")\n",
    "annotator3 = Annotator('annotator3', \"annotations-danielsantosa.json\")\n",
    "annotator4 = Annotator('annotator4', \"annotations-mhodki.json\")\n",
    "annotator5 = Annotator('annotator5', \"annotations-mstewartuwa.json\")\n",
    "annotator6 = Annotator('annotator6', \"annotations-caitlinwoods.json\")\n",
    "annotator7 = Annotator('annotator7', \"annotations-Tim.json\")\n",
    "label = Label_Metrics(annotator1, annotator2, annotator3)\n",
    "overall_table = label.get_accumulated_table_labels()"
   ]
  },
  {
   "cell_type": "code",
   "execution_count": null,
   "metadata": {},
   "outputs": [],
   "source": [
    "label_agreements = label.get_label_agreements_with_chance(overall_table)"
   ]
  },
  {
   "cell_type": "code",
   "execution_count": null,
   "metadata": {},
   "outputs": [],
   "source": [
    "agreement_summary = label.create_agreement_summary(label_agreements)\n",
    "agreement_summary"
   ]
  }
 ],
 "metadata": {
  "kernelspec": {
   "display_name": "Python 3.10.6 ('geng5511')",
   "language": "python",
   "name": "python3"
  },
  "language_info": {
   "codemirror_mode": {
    "name": "ipython",
    "version": 3
   },
   "file_extension": ".py",
   "mimetype": "text/x-python",
   "name": "python",
   "nbconvert_exporter": "python",
   "pygments_lexer": "ipython3",
   "version": "3.10.6"
  },
  "orig_nbformat": 4,
  "vscode": {
   "interpreter": {
    "hash": "0d6b25e3d359dbcf5b3d012df9b4ff4bf9ad1ff150d1f4aeb5127ceac302af3e"
   }
  }
 },
 "nbformat": 4,
 "nbformat_minor": 2
}
