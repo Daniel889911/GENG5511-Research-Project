{
 "cells": [
  {
   "cell_type": "code",
   "execution_count": 1,
   "metadata": {},
   "outputs": [
    {
     "name": "stdout",
     "output_type": "stream",
     "text": [
      "[40, 41, 42, 43, 44, 45, 46, 47, 48, 49]\n"
     ]
    }
   ],
   "source": [
    "from annotator import Annotator\n",
    "import functions as fun\n",
    "from group import Group_Metrics\n",
    "\n",
    "caitlin = Annotator('caitlin', \"annotations-caitlinwoods.json\")\n",
    "ziyu = Annotator('ziyu', \"annotations-ziyu.zhao.json\")\n",
    "tim = Annotator('tim', \"annotations-Tim.json\")\n",
    "tyler = Annotator('tyler', \"annotations-TBikaun.json\")\n",
    "\n",
    "group = Group_Metrics(caitlin, ziyu, tim, tyler)\n",
    "\n",
    "print(group.get_same_doc_ids())"
   ]
  },
  {
   "cell_type": "code",
   "execution_count": 2,
   "metadata": {},
   "outputs": [
    {
     "data": {
      "text/plain": [
       "[[['repair', 'Activity', True],\n",
       "  ['replace', 'Activity', True],\n",
       "  ['head', 'Item', False],\n",
       "  ['proximity switch', 'Item', True]],\n",
       " [['inverter', 'Item', True],\n",
       "  ['damaged', 'Observation/Observed_state', True],\n",
       "  ['240v', 'Specifier', True],\n",
       "  ['circuit', 'Item', True]],\n",
       " [['inverter', 'Item', True],\n",
       "  ['no', 'Observation/Observed_state', False],\n",
       "  ['output.', 'Observation/Observed_state', False]],\n",
       " [['inverter', 'Item', True],\n",
       "  ['keeps tripping', 'Observation/Observed_state', False],\n",
       "  ['on', 'Location', True]],\n",
       " [['inverter', 'Item', True],\n",
       "  ['not working', 'Observation/Observed_state', False]],\n",
       " [['inverter', 'Item', True],\n",
       "  ['not working.', 'Observation/Observed_state', False]],\n",
       " [['inverter', 'Item', True],\n",
       "  ['playing up', 'Observation/Observed_state', False]],\n",
       " [['inverter', 'Item', True],\n",
       "  ['tripped out', 'Observation/Observed_state', False]],\n",
       " [['inverter', 'Item', True],\n",
       "  ['tripping', 'Observation/Observed_state', False]],\n",
       " [['inverter', 'Item', True],\n",
       "  ['tripping', 'Observation/Observed_state Abbreviation', False],\n",
       "  ['on', 'Observation/Observed_state Abbreviation', False],\n",
       "  ['e/l', 'Observation/Observed_state Abbreviation', False]]]"
      ]
     },
     "execution_count": 2,
     "metadata": {},
     "output_type": "execute_result"
    }
   ],
   "source": [
    "group.get_corpus_metrics()\n"
   ]
  },
  {
   "cell_type": "code",
   "execution_count": null,
   "metadata": {},
   "outputs": [],
   "source": [
    "group.get_label_metrics()"
   ]
  }
 ],
 "metadata": {
  "kernelspec": {
   "display_name": "Python 3.8.10",
   "language": "python",
   "name": "python3"
  },
  "language_info": {
   "codemirror_mode": {
    "name": "ipython",
    "version": 3
   },
   "file_extension": ".py",
   "mimetype": "text/x-python",
   "name": "python",
   "nbconvert_exporter": "python",
   "pygments_lexer": "ipython3",
   "version": "3.8.10"
  },
  "orig_nbformat": 4,
  "vscode": {
   "interpreter": {
    "hash": "280c27857ba5f296638a4affe7dd8804a199bde6a579fe208ca483adfb295910"
   }
  }
 },
 "nbformat": 4,
 "nbformat_minor": 2
}
