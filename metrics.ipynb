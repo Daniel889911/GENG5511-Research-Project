{
 "cells": [
  {
   "cell_type": "code",
   "execution_count": 2,
   "metadata": {},
   "outputs": [
    {
     "name": "stdout",
     "output_type": "stream",
     "text": [
      "[40, 41, 42, 43, 44, 45, 46, 47, 48, 49]\n"
     ]
    }
   ],
   "source": [
    "from annotator import Annotator\n",
    "from group import Group_Metrics\n",
    "\n",
    "caitlin = Annotator('caitlin', \"annotations-caitlinwoods.json\")\n",
    "ziyu = Annotator('ziyu', \"annotations-ziyu.zhao.json\")\n",
    "tim = Annotator('tim', \"annotations-Tim.json\")\n",
    "tyler = Annotator('tyler', \"annotations-TBikaun.json\")\n",
    "\n",
    "group = Group_Metrics(caitlin, ziyu, tim, tyler)\n",
    "\n",
    "print(group.get_same_doc_ids())"
   ]
  },
  {
   "cell_type": "code",
   "execution_count": null,
   "metadata": {},
   "outputs": [],
   "source": [
    "print(doc40)"
   ]
  },
  {
   "cell_type": "code",
   "execution_count": null,
   "metadata": {},
   "outputs": [],
   "source": [
    "print(caitlin.get_doc_tokens(doc40))"
   ]
  }
 ],
 "metadata": {
  "kernelspec": {
   "display_name": "Python 3.7.3 64-bit",
   "language": "python",
   "name": "python3"
  },
  "language_info": {
   "codemirror_mode": {
    "name": "ipython",
    "version": 3
   },
   "file_extension": ".py",
   "mimetype": "text/x-python",
   "name": "python",
   "nbconvert_exporter": "python",
   "pygments_lexer": "ipython3",
   "version": "3.7.3"
  },
  "orig_nbformat": 4,
  "vscode": {
   "interpreter": {
    "hash": "1d8709c544434a9d2937c49923a4e37a276e0355ec792b4bcb902bea15de6845"
   }
  }
 },
 "nbformat": 4,
 "nbformat_minor": 2
}
