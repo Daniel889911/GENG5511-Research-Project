{
 "cells": [
  {
   "cell_type": "code",
   "execution_count": 1,
   "metadata": {},
   "outputs": [
    {
     "name": "stdout",
     "output_type": "stream",
     "text": [
      "[40, 41, 42, 43, 44, 45, 46, 47, 48, 49]\n"
     ]
    }
   ],
   "source": [
    "from annotator import Annotator\n",
    "import functions as fun\n",
    "from group import Group_Metrics\n",
    "\n",
    "caitlin = Annotator('caitlin', \"annotations-caitlinwoods.json\")\n",
    "ziyu = Annotator('ziyu', \"annotations-ziyu.zhao.json\")\n",
    "tim = Annotator('tim', \"annotations-Tim.json\")\n",
    "tyler = Annotator('tyler', \"annotations-TBikaun.json\")\n",
    "\n",
    "group = Group_Metrics(caitlin, ziyu, tim, tyler)\n",
    "\n",
    "print(group.get_same_doc_ids())"
   ]
  },
  {
   "cell_type": "code",
   "execution_count": null,
   "metadata": {},
   "outputs": [],
   "source": [
    "print(caitlin.name)"
   ]
  },
  {
   "cell_type": "code",
   "execution_count": null,
   "metadata": {},
   "outputs": [],
   "source": [
    "names_list = [caitlin,ziyu, tim, tyler]"
   ]
  },
  {
   "cell_type": "code",
   "execution_count": null,
   "metadata": {},
   "outputs": [],
   "source": [
    "group.print_annotators(names_list)"
   ]
  },
  {
   "cell_type": "code",
   "execution_count": null,
   "metadata": {},
   "outputs": [],
   "source": [
    "tokens1 = [\"repair\",\"/\",\"replace\",\"head\",\"proximity\",\"switch\"]\n",
    "mentions1 = [{\"start\":0,\"end\":1,\"labels\":[\"Activity\"]},{\"start\":2,\"end\":3,\"labels\":[\"Activity\"]},{\"start\":3,\"end\":6,\"labels\":[\"Item\"]}]"
   ]
  },
  {
   "cell_type": "code",
   "execution_count": null,
   "metadata": {},
   "outputs": [],
   "source": [
    "items1 = fun.item_class(tokens1, mentions1)"
   ]
  },
  {
   "cell_type": "code",
   "execution_count": null,
   "metadata": {},
   "outputs": [],
   "source": [
    "print(items1)"
   ]
  },
  {
   "cell_type": "code",
   "execution_count": null,
   "metadata": {},
   "outputs": [],
   "source": [
    "tokens2 = [\"repair\",\"/\",\"replace\",\"head\",\"proximity\",\"switch\"]\n",
    "mentions2 = [{\"start\":0,\"end\":1,\"labels\":[\"Activity\"]},{\"start\":2,\"end\":3,\"labels\":[\"Activity\"]}]"
   ]
  },
  {
   "cell_type": "code",
   "execution_count": null,
   "metadata": {},
   "outputs": [],
   "source": [
    "items2 = fun.item_class(tokens2, mentions2)\n",
    "print(items2)"
   ]
  },
  {
   "cell_type": "code",
   "execution_count": null,
   "metadata": {},
   "outputs": [],
   "source": [
    "tokens3 = [\"repair\",\"/\",\"replace\",\"head\",\"proximity\",\"switch\"]\n",
    "mentions3 = [{\"start\":0,\"end\":1,\"labels\":[\"Activity\"]},{\"start\":2,\"end\":3,\"labels\":[\"Activity\"]},{\"start\":3,\"end\":4,\"labels\":[\"Specifier\"]},{\"start\":4,\"end\":6,\"labels\":[\"Item\"]}]"
   ]
  },
  {
   "cell_type": "code",
   "execution_count": null,
   "metadata": {},
   "outputs": [],
   "source": [
    "items3 = fun.item_class(tokens3, mentions3)\n",
    "print(items3)"
   ]
  },
  {
   "cell_type": "code",
   "execution_count": null,
   "metadata": {},
   "outputs": [],
   "source": [
    "tokens4 = [\"repair\",\"/\",\"replace\",\"head\",\"proximity\",\"switch\"]\n",
    "mentions4 = [{\"start\":0,\"end\":1,\"labels\":[\"Activity\"]},{\"start\":2,\"end\":3,\"labels\":[\"Activity\"]}]"
   ]
  },
  {
   "cell_type": "code",
   "execution_count": null,
   "metadata": {},
   "outputs": [],
   "source": [
    "items4 = fun.item_class(tokens4, mentions4)\n",
    "print(items4)"
   ]
  },
  {
   "cell_type": "code",
   "execution_count": null,
   "metadata": {},
   "outputs": [],
   "source": [
    "majitems = fun.majority_item(items1, items2, items3, items4)"
   ]
  },
  {
   "cell_type": "code",
   "execution_count": null,
   "metadata": {},
   "outputs": [],
   "source": [
    "print(majitems)"
   ]
  }
 ],
 "metadata": {
  "kernelspec": {
   "display_name": "Python 3.8.10",
   "language": "python",
   "name": "python3"
  },
  "language_info": {
   "codemirror_mode": {
    "name": "ipython",
    "version": 3
   },
   "file_extension": ".py",
   "mimetype": "text/x-python",
   "name": "python",
   "nbconvert_exporter": "python",
   "pygments_lexer": "ipython3",
   "version": "3.8.10"
  },
  "orig_nbformat": 4,
  "vscode": {
   "interpreter": {
    "hash": "280c27857ba5f296638a4affe7dd8804a199bde6a579fe208ca483adfb295910"
   }
  }
 },
 "nbformat": 4,
 "nbformat_minor": 2
}
