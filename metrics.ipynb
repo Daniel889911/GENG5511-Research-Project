{
 "cells": [
  {
   "cell_type": "code",
   "execution_count": 2,
   "metadata": {},
   "outputs": [],
   "source": [
    "from annotator import Annotator\n",
    "from calculator import Calculator\n",
    "\n",
    "caitlin = Annotator('caitlin', \"annotations-caitlinwoods.json\")\n",
    "laurapeh = Annotator('laura', \"annotations-laurapeh.json\")\n",
    "\n",
    "doc40 = caitlin.get_doc_idx(40)"
   ]
  },
  {
   "cell_type": "code",
   "execution_count": 3,
   "metadata": {},
   "outputs": [
    {
     "name": "stdout",
     "output_type": "stream",
     "text": [
      "{'doc_idx': 40, 'tokens': ['repair', '/', 'replace', 'head', 'proximity', 'switch'], 'mentions': [{'start': 0, 'end': 1, 'labels': ['Activity']}, {'start': 2, 'end': 3, 'labels': ['Activity']}, {'start': 3, 'end': 6, 'labels': ['Item']}]}\n"
     ]
    }
   ],
   "source": [
    "print(doc40)"
   ]
  },
  {
   "cell_type": "code",
   "execution_count": 7,
   "metadata": {},
   "outputs": [
    {
     "name": "stdout",
     "output_type": "stream",
     "text": [
      "['repair', '/', 'replace', 'head', 'proximity', 'switch']\n"
     ]
    }
   ],
   "source": [
    "print(caitlin.get_doc_tokens(doc40))"
   ]
  }
 ],
 "metadata": {
  "kernelspec": {
   "display_name": "Python 3.7.3 64-bit",
   "language": "python",
   "name": "python3"
  },
  "language_info": {
   "codemirror_mode": {
    "name": "ipython",
    "version": 3
   },
   "file_extension": ".py",
   "mimetype": "text/x-python",
   "name": "python",
   "nbconvert_exporter": "python",
   "pygments_lexer": "ipython3",
   "version": "3.7.3"
  },
  "orig_nbformat": 4,
  "vscode": {
   "interpreter": {
    "hash": "1d8709c544434a9d2937c49923a4e37a276e0355ec792b4bcb902bea15de6845"
   }
  }
 },
 "nbformat": 4,
 "nbformat_minor": 2
}
