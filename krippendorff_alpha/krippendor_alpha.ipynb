{
 "cells": [
  {
   "cell_type": "code",
   "execution_count": 1,
   "metadata": {},
   "outputs": [],
   "source": [
    "from annotator import Annotator\n",
    "from krippendorff_alpha import Label_Metrics\n",
    "import graphs as gr\n",
    "import krippendorff\n",
    "import numpy as np\n",
    "from irrCAC.raw import CAC\n",
    "\n",
    "tyler = Annotator('tyler', \"annotations-TBikaun.json\")\n",
    "tim = Annotator('tim', \"annotations-Tim.json\")\n",
    "caitlin = Annotator('caitlin', \"annotations-caitlinwoods.json\")\n",
    "ziyu = Annotator('ziyu', \"annotations-ziyu.zhao.json\")\n",
    "label = Label_Metrics(caitlin, ziyu, tim, tyler)\n"
   ]
  },
  {
   "cell_type": "code",
   "execution_count": 2,
   "metadata": {},
   "outputs": [
    {
     "name": "stdout",
     "output_type": "stream",
     "text": [
      "0.719556\n"
     ]
    },
    {
     "name": "stderr",
     "output_type": "stream",
     "text": [
      "c:\\Users\\Daniel\\Anaconda3\\envs\\geng5511\\lib\\site-packages\\irrCAC\\raw.py:427: RuntimeWarning: divide by zero encountered in double_scalars\n",
      "  p_value = 2 * (1 - stats.t.cdf(abs(krippen_alpha / stderr), n - 1))\n",
      "c:\\Users\\Daniel\\Anaconda3\\envs\\geng5511\\lib\\site-packages\\scipy\\stats\\_distn_infrastructure.py:2343: RuntimeWarning: invalid value encountered in multiply\n",
      "  lower_bound = _a * scale + loc\n",
      "c:\\Users\\Daniel\\Anaconda3\\envs\\geng5511\\lib\\site-packages\\scipy\\stats\\_distn_infrastructure.py:2344: RuntimeWarning: invalid value encountered in multiply\n",
      "  upper_bound = _b * scale + loc\n",
      "c:\\Users\\Daniel\\Anaconda3\\envs\\geng5511\\lib\\site-packages\\irrCAC\\raw.py:436: RuntimeWarning: divide by zero encountered in double_scalars\n",
      "  self.z = round(krippen_alpha_est / stderr, self.digits)\n",
      "c:\\Users\\Daniel\\Anaconda3\\envs\\geng5511\\lib\\site-packages\\irrCAC\\raw.py:427: RuntimeWarning: divide by zero encountered in double_scalars\n",
      "  p_value = 2 * (1 - stats.t.cdf(abs(krippen_alpha / stderr), n - 1))\n",
      "c:\\Users\\Daniel\\Anaconda3\\envs\\geng5511\\lib\\site-packages\\scipy\\stats\\_distn_infrastructure.py:2343: RuntimeWarning: invalid value encountered in multiply\n",
      "  lower_bound = _a * scale + loc\n",
      "c:\\Users\\Daniel\\Anaconda3\\envs\\geng5511\\lib\\site-packages\\scipy\\stats\\_distn_infrastructure.py:2344: RuntimeWarning: invalid value encountered in multiply\n",
      "  upper_bound = _b * scale + loc\n",
      "c:\\Users\\Daniel\\Anaconda3\\envs\\geng5511\\lib\\site-packages\\irrCAC\\raw.py:436: RuntimeWarning: divide by zero encountered in double_scalars\n",
      "  self.z = round(krippen_alpha_est / stderr, self.digits)\n",
      "c:\\Users\\Daniel\\Anaconda3\\envs\\geng5511\\lib\\site-packages\\irrCAC\\raw.py:427: RuntimeWarning: divide by zero encountered in double_scalars\n",
      "  p_value = 2 * (1 - stats.t.cdf(abs(krippen_alpha / stderr), n - 1))\n",
      "c:\\Users\\Daniel\\Anaconda3\\envs\\geng5511\\lib\\site-packages\\scipy\\stats\\_distn_infrastructure.py:2343: RuntimeWarning: invalid value encountered in multiply\n",
      "  lower_bound = _a * scale + loc\n",
      "c:\\Users\\Daniel\\Anaconda3\\envs\\geng5511\\lib\\site-packages\\scipy\\stats\\_distn_infrastructure.py:2344: RuntimeWarning: invalid value encountered in multiply\n",
      "  upper_bound = _b * scale + loc\n",
      "c:\\Users\\Daniel\\Anaconda3\\envs\\geng5511\\lib\\site-packages\\irrCAC\\raw.py:436: RuntimeWarning: divide by zero encountered in double_scalars\n",
      "  self.z = round(krippen_alpha_est / stderr, self.digits)\n"
     ]
    }
   ],
   "source": [
    "krippendorff_alpha = label.calculate_krippendorff_alpha_for_all_docs()\n",
    "print(krippendorff_alpha)\n"
   ]
  }
 ],
 "metadata": {
  "kernelspec": {
   "display_name": "Python 3.10.6 ('geng5511')",
   "language": "python",
   "name": "python3"
  },
  "language_info": {
   "codemirror_mode": {
    "name": "ipython",
    "version": 3
   },
   "file_extension": ".py",
   "mimetype": "text/x-python",
   "name": "python",
   "nbconvert_exporter": "python",
   "pygments_lexer": "ipython3",
   "version": "3.10.6"
  },
  "orig_nbformat": 4,
  "vscode": {
   "interpreter": {
    "hash": "0d6b25e3d359dbcf5b3d012df9b4ff4bf9ad1ff150d1f4aeb5127ceac302af3e"
   }
  }
 },
 "nbformat": 4,
 "nbformat_minor": 2
}
