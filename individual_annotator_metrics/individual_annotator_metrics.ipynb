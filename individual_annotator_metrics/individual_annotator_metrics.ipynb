{
 "cells": [
  {
   "cell_type": "code",
   "execution_count": 1,
   "metadata": {},
   "outputs": [
    {
     "data": {
      "text/plain": [
       "[40, 41, 42, 43, 44, 45, 46, 47, 48, 49]"
      ]
     },
     "execution_count": 1,
     "metadata": {},
     "output_type": "execute_result"
    }
   ],
   "source": [
    "from annotator import Annotator\n",
    "from individual_annotator_metrics import Label_Metrics\n",
    "import graphs as gr\n",
    "import numpy as np\n",
    "\n",
    "tyler = Annotator('tyler', \"annotations-TBikaun.json\")\n",
    "tim = Annotator('tim', \"annotations-Tim.json\")\n",
    "caitlin = Annotator('caitlin', \"annotations-caitlinwoods.json\")\n",
    "ziyu = Annotator('ziyu', \"annotations-ziyu.zhao.json\")\n",
    "label = Label_Metrics(caitlin, ziyu, tim, tyler)\n",
    "label.get_same_doc_ids()"
   ]
  },
  {
   "cell_type": "code",
   "execution_count": 2,
   "metadata": {},
   "outputs": [
    {
     "name": "stdout",
     "output_type": "stream",
     "text": [
      "{'caitlin': 71.42857142857143, 'tim': 66.66666666666666, 'tyler': 76.19047619047619, 'ziyu': 52.38095238095239, 'percent_agreement': 23.809523809523807}\n"
     ]
    }
   ],
   "source": [
    "annotated_df = label.get_all_annotators_tokens_labels_all_docs()\n",
    "table = label.create_individual_text_metrics_table(annotated_df)\n",
    "annotator_metrics = label.calculate_individual_annotator_agreement_metrics(table)\n",
    "print(annotator_metrics)"
   ]
  }
 ],
 "metadata": {
  "kernelspec": {
   "display_name": "Python 3.10.6 ('geng5511')",
   "language": "python",
   "name": "python3"
  },
  "language_info": {
   "codemirror_mode": {
    "name": "ipython",
    "version": 3
   },
   "file_extension": ".py",
   "mimetype": "text/x-python",
   "name": "python",
   "nbconvert_exporter": "python",
   "pygments_lexer": "ipython3",
   "version": "3.10.6"
  },
  "orig_nbformat": 4,
  "vscode": {
   "interpreter": {
    "hash": "0d6b25e3d359dbcf5b3d012df9b4ff4bf9ad1ff150d1f4aeb5127ceac302af3e"
   }
  }
 },
 "nbformat": 4,
 "nbformat_minor": 2
}
