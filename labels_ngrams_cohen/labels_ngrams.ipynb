{
 "cells": [
  {
   "cell_type": "code",
   "execution_count": 1,
   "metadata": {},
   "outputs": [],
   "source": [
    "from annotator import Annotator\n",
    "from labels_ngrams import Labels_Ngram_Metrics\n",
    "import graphs as gr\n",
    "\n",
    "annotator1 = Annotator('annotator1', \"annotations-TBikaun.json\")\n",
    "annotator2 = Annotator('annotator2', \"annotations-ziyu.zhao.json\")\n",
    "annotator3 = Annotator('annotator3', \"annotations-danielsantosa.json\")\n",
    "annotator4 = Annotator('annotator4', \"annotations-mhodki.json\")\n",
    "annotator5 = Annotator('annotator5', \"annotations-mstewartuwa.json\")\n",
    "annotator6 = Annotator('annotator6', \"annotations-caitlinwoods.json\")\n",
    "annotator7 = Annotator('annotator7', \"annotations-Tim.json\")\n",
    "label = Labels_Ngram_Metrics(annotator1, annotator2, annotator3)"
   ]
  },
  {
   "cell_type": "code",
   "execution_count": 2,
   "metadata": {},
   "outputs": [
    {
     "ename": "NameError",
     "evalue": "name 'warnings' is not defined",
     "output_type": "error",
     "traceback": [
      "\u001b[1;31m---------------------------------------------------------------------------\u001b[0m",
      "\u001b[1;31mNameError\u001b[0m                                 Traceback (most recent call last)",
      "\u001b[1;32mc:\\Users\\Daniel\\Documents\\GitHub\\GENG5511-Research-Project\\labels_ngrams_cohen\\labels_ngrams.ipynb Cell 2\u001b[0m in \u001b[0;36m<cell line: 2>\u001b[1;34m()\u001b[0m\n\u001b[0;32m      <a href='vscode-notebook-cell:/c%3A/Users/Daniel/Documents/GitHub/GENG5511-Research-Project/labels_ngrams_cohen/labels_ngrams.ipynb#W1sZmlsZQ%3D%3D?line=0'>1</a>\u001b[0m table \u001b[39m=\u001b[39m label\u001b[39m.\u001b[39mget_accumulated_table_ngrams()\n\u001b[1;32m----> <a href='vscode-notebook-cell:/c%3A/Users/Daniel/Documents/GitHub/GENG5511-Research-Project/labels_ngrams_cohen/labels_ngrams.ipynb#W1sZmlsZQ%3D%3D?line=1'>2</a>\u001b[0m ngram_agreement_lists \u001b[39m=\u001b[39m label\u001b[39m.\u001b[39;49mget_labels_and_ngrams(table)\n\u001b[0;32m      <a href='vscode-notebook-cell:/c%3A/Users/Daniel/Documents/GitHub/GENG5511-Research-Project/labels_ngrams_cohen/labels_ngrams.ipynb#W1sZmlsZQ%3D%3D?line=2'>3</a>\u001b[0m heat_map_metrics \u001b[39m=\u001b[39m label\u001b[39m.\u001b[39mconvert_labels_ngrams_metrics_for_heat_map(ngram_agreement_lists)\n",
      "File \u001b[1;32mc:\\Users\\Daniel\\Documents\\GitHub\\GENG5511-Research-Project\\labels_ngrams_cohen\\labels_ngrams.py:157\u001b[0m, in \u001b[0;36mLabels_Ngram_Metrics.get_labels_and_ngrams\u001b[1;34m(self, df)\u001b[0m\n\u001b[0;32m    154\u001b[0m \u001b[39m# Loop through all the dataframes in ngrams \u001b[39;00m\n\u001b[0;32m    155\u001b[0m \u001b[39mfor\u001b[39;00m ngram, ngram_df \u001b[39min\u001b[39;00m ngrams_dfs\u001b[39m.\u001b[39mitems():\n\u001b[0;32m    156\u001b[0m     \u001b[39m# Get the metrics for the current ngram\u001b[39;00m\n\u001b[1;32m--> 157\u001b[0m     label_metrics_list \u001b[39m=\u001b[39m \u001b[39mself\u001b[39;49m\u001b[39m.\u001b[39;49mget_label_agreements_with_chance(ngram_df)\n\u001b[0;32m    158\u001b[0m     ngram_metrics_list \u001b[39m=\u001b[39m \u001b[39mself\u001b[39m\u001b[39m.\u001b[39mget_single_ngram_agreement_list(ngram_df)\n\u001b[0;32m    159\u001b[0m     \u001b[39m# Add the metrics to the ngram_metrics dictionary\u001b[39;00m\n",
      "File \u001b[1;32mc:\\Users\\Daniel\\Documents\\GitHub\\GENG5511-Research-Project\\labels_ngrams_cohen\\labels_ngrams.py:336\u001b[0m, in \u001b[0;36mLabels_Ngram_Metrics.get_label_agreements_with_chance\u001b[1;34m(self, dataframe)\u001b[0m\n\u001b[0;32m    334\u001b[0m \u001b[39mfor\u001b[39;00m j, annotator2 \u001b[39min\u001b[39;00m \u001b[39menumerate\u001b[39m(annotators):\n\u001b[0;32m    335\u001b[0m     \u001b[39mif\u001b[39;00m i \u001b[39m<\u001b[39m j:\n\u001b[1;32m--> 336\u001b[0m         \u001b[39mwith\u001b[39;00m warnings\u001b[39m.\u001b[39mcatch_warnings(record\u001b[39m=\u001b[39m\u001b[39mTrue\u001b[39;00m) \u001b[39mas\u001b[39;00m w:\n\u001b[0;32m    337\u001b[0m             warnings\u001b[39m.\u001b[39msimplefilter(\u001b[39m\"\u001b[39m\u001b[39malways\u001b[39m\u001b[39m\"\u001b[39m)\n\u001b[0;32m    338\u001b[0m             annotator1_labels \u001b[39m=\u001b[39m label_df[annotator1]\n",
      "\u001b[1;31mNameError\u001b[0m: name 'warnings' is not defined"
     ]
    }
   ],
   "source": [
    "table = label.get_accumulated_table_ngrams()\n",
    "ngram_agreement_lists = label.get_labels_and_ngrams(table)\n",
    "heat_map_metrics = label.convert_labels_ngrams_metrics_for_heat_map(ngram_agreement_lists)"
   ]
  },
  {
   "cell_type": "code",
   "execution_count": null,
   "metadata": {},
   "outputs": [],
   "source": [
    "gr.create_heatmap2(heat_map_metrics)"
   ]
  }
 ],
 "metadata": {
  "kernelspec": {
   "display_name": "Python 3.10.6 ('geng5511')",
   "language": "python",
   "name": "python3"
  },
  "language_info": {
   "codemirror_mode": {
    "name": "ipython",
    "version": 3
   },
   "file_extension": ".py",
   "mimetype": "text/x-python",
   "name": "python",
   "nbconvert_exporter": "python",
   "pygments_lexer": "ipython3",
   "version": "3.10.6"
  },
  "orig_nbformat": 4,
  "vscode": {
   "interpreter": {
    "hash": "0d6b25e3d359dbcf5b3d012df9b4ff4bf9ad1ff150d1f4aeb5127ceac302af3e"
   }
  }
 },
 "nbformat": 4,
 "nbformat_minor": 2
}
