{
 "cells": [
  {
   "cell_type": "code",
   "execution_count": 1,
   "metadata": {},
   "outputs": [
    {
     "name": "stdout",
     "output_type": "stream",
     "text": [
      "10\n"
     ]
    }
   ],
   "source": [
    "from annotator import Annotator\n",
    "from label import Label_Metrics\n",
    "from ngram import Ngram_Metrics\n",
    "\n",
    "caitlin = Annotator('caitlin', \"annotations-caitlinwoods.json\")\n",
    "ziyu = Annotator('ziyu', \"annotations-ziyu.zhao.json\")\n",
    "tim = Annotator('tim', \"annotations-Tim.json\")\n",
    "tyler = Annotator('tyler', \"annotations-TBikaun.json\")\n",
    "\n",
    "ngram = Ngram_Metrics(caitlin, ziyu, tim, tyler)\n",
    "corpus_metrics = ngram.get_corpus_metrics()\n",
    "print(len(corpus_metrics))\n"
   ]
  },
  {
   "cell_type": "code",
   "execution_count": 2,
   "metadata": {},
   "outputs": [],
   "source": [
    "metrics = ngram.get_label_ngram_metrics(corpus_metrics)"
   ]
  },
  {
   "cell_type": "code",
   "execution_count": 3,
   "metadata": {},
   "outputs": [
    {
     "name": "stdout",
     "output_type": "stream",
     "text": [
      "[['Activity', 1, 1.0], ['Item', 1, 0.375], ['Specifier', 1, 1.0], ['Observation/Observed_state', 1, 0.375], ['Location', 1, 0.875]]\n"
     ]
    }
   ],
   "source": [
    "print(metrics)"
   ]
  }
 ],
 "metadata": {
  "kernelspec": {
   "display_name": "Python 3.8.10",
   "language": "python",
   "name": "python3"
  },
  "language_info": {
   "codemirror_mode": {
    "name": "ipython",
    "version": 3
   },
   "file_extension": ".py",
   "mimetype": "text/x-python",
   "name": "python",
   "nbconvert_exporter": "python",
   "pygments_lexer": "ipython3",
   "version": "3.8.10"
  },
  "orig_nbformat": 4,
  "vscode": {
   "interpreter": {
    "hash": "280c27857ba5f296638a4affe7dd8804a199bde6a579fe208ca483adfb295910"
   }
  }
 },
 "nbformat": 4,
 "nbformat_minor": 2
}
