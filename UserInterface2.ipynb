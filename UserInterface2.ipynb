{
 "cells": [
  {
   "cell_type": "code",
   "execution_count": 1,
   "metadata": {},
   "outputs": [
    {
     "name": "stdout",
     "output_type": "stream",
     "text": [
      "[40, 41, 42, 43, 44, 45, 46, 47, 48, 49]\n"
     ]
    }
   ],
   "source": [
    "from annotator import Annotator\n",
    "from label import Label_Metrics\n",
    "from ngram import Ngram_Metrics\n",
    "\n",
    "caitlin = Annotator('caitlin', \"annotations-caitlinwoods.json\")\n",
    "ziyu = Annotator('ziyu', \"annotations-ziyu.zhao.json\")\n",
    "tim = Annotator('tim', \"annotations-Tim.json\")\n",
    "tyler = Annotator('tyler', \"annotations-TBikaun.json\")\n",
    "\n",
    "ngram = Ngram_Metrics(caitlin, ziyu, tim, tyler)\n",
    "\n",
    "print(ngram.get_same_doc_ids())"
   ]
  },
  {
   "cell_type": "code",
   "execution_count": 2,
   "metadata": {},
   "outputs": [],
   "source": [
    "annotated_corpus = ngram.get_corpus_metrics()\n"
   ]
  },
  {
   "cell_type": "code",
   "execution_count": 3,
   "metadata": {},
   "outputs": [
    {
     "name": "stdout",
     "output_type": "stream",
     "text": [
      "[[[0, 1, 1], 0.75, 'repair', 'Activity', 1.0], [[2, 3, 1], 0.75, 'replace', 'Activity', 1.0], [[3, 6, 3], 0.25, 'head proximity switch', 'Item', 'N/A'], [[3, 4, 1], 0.25, 'head', 'Specifier', 'N/A'], [[4, 6, 2], 0.25, 'proximity switch', 'Item', 'N/A']]\n"
     ]
    }
   ],
   "source": [
    "print(annotated_corpus[0])"
   ]
  },
  {
   "cell_type": "code",
   "execution_count": null,
   "metadata": {},
   "outputs": [],
   "source": [
    "def search_ngram_in_list(orig_ngram:list, doc_metrics: list) -> bool :\n",
    "    for ngrams in doc_metrics:\n",
    "        if orig_ngram in ngrams:\n",
    "            return True\n",
    "    return False"
   ]
  },
  {
   "cell_type": "code",
   "execution_count": null,
   "metadata": {},
   "outputs": [],
   "source": [
    "list1 = "
   ]
  }
 ],
 "metadata": {
  "kernelspec": {
   "display_name": "Python 3.8.10",
   "language": "python",
   "name": "python3"
  },
  "language_info": {
   "codemirror_mode": {
    "name": "ipython",
    "version": 3
   },
   "file_extension": ".py",
   "mimetype": "text/x-python",
   "name": "python",
   "nbconvert_exporter": "python",
   "pygments_lexer": "ipython3",
   "version": "3.8.10"
  },
  "orig_nbformat": 4,
  "vscode": {
   "interpreter": {
    "hash": "280c27857ba5f296638a4affe7dd8804a199bde6a579fe208ca483adfb295910"
   }
  }
 },
 "nbformat": 4,
 "nbformat_minor": 2
}
