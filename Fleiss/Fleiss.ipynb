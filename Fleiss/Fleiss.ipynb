{
 "cells": [
  {
   "cell_type": "code",
   "execution_count": 2,
   "metadata": {},
   "outputs": [],
   "source": [
    "from annotator import Annotator\n",
    "from fleiss import Label_Metrics\n",
    "import graphs as gr\n",
    "\n",
    "tyler = Annotator('tyler', \"annotations-TBikaun.json\")\n",
    "tim = Annotator('tim', \"annotations-Tim.json\")\n",
    "caitlin = Annotator('caitlin', \"annotations-caitlinwoods.json\")\n",
    "ziyu = Annotator('ziyu', \"annotations-ziyu.zhao.json\")\n",
    "label = Label_Metrics(caitlin, ziyu, tim, tyler)\n",
    "label.get_same_doc_ids()\n"
   ]
  },
  {
   "cell_type": "code",
   "execution_count": 8,
   "metadata": {},
   "outputs": [
    {
     "data": {
      "text/plain": [
       "[40, 41, 42, 43, 44, 45, 46, 47, 48, 49]"
      ]
     },
     "execution_count": 8,
     "metadata": {},
     "output_type": "execute_result"
    }
   ],
   "source": [
    "\n"
   ]
  },
  {
   "cell_type": "code",
   "execution_count": null,
   "metadata": {},
   "outputs": [],
   "source": [
    "gr.create_pie_chart(label_metrics)"
   ]
  },
  {
   "cell_type": "code",
   "execution_count": 1,
   "metadata": {},
   "outputs": [],
   "source": [
    "import reliability_metrics as rm\n"
   ]
  },
  {
   "cell_type": "code",
   "execution_count": 6,
   "metadata": {},
   "outputs": [
    {
     "name": "stdout",
     "output_type": "stream",
     "text": [
      "Krippendorff's Alpha (krippendorff package): 0.5764705882352941\n"
     ]
    }
   ],
   "source": [
    "import numpy as np\n",
    "import krippendorff\n",
    "\n",
    "# Example ratings matrix (in the format required by the krippendorff package)\n",
    "ratings = np.array([\n",
    "    [np.nan, np.nan, np.nan, np.nan, 4],\n",
    "    [np.nan, np.nan, np.nan, 3, np.nan],\n",
    "    [np.nan, np.nan, np.nan, 3, np.nan],\n",
    "    [np.nan, np.nan, np.nan, 3, np.nan],\n",
    "    [np.nan, np.nan, np.nan, 2, 4],\n",
    "    [np.nan, np.nan, np.nan, np.nan, 4],\n",
    "    [np.nan, np.nan, np.nan, np.nan, 4],\n",
    "    [np.nan, np.nan, np.nan, np.nan, 4],\n",
    "    [np.nan, np.nan, np.nan, 2, 4],\n",
    "    [np.nan, np.nan, np.nan, 2, 4],\n",
    "])\n",
    "\n",
    "# Compute Krippendorff's alpha using the krippendorff package\n",
    "krippendorff_alpha = krippendorff.alpha(ratings, level_of_measurement='nominal')\n",
    "\n",
    "print(\"Krippendorff's Alpha (krippendorff package):\", krippendorff_alpha)\n"
   ]
  }
 ],
 "metadata": {
  "kernelspec": {
   "display_name": "Python 3.10.6 ('geng5511')",
   "language": "python",
   "name": "python3"
  },
  "language_info": {
   "codemirror_mode": {
    "name": "ipython",
    "version": 3
   },
   "file_extension": ".py",
   "mimetype": "text/x-python",
   "name": "python",
   "nbconvert_exporter": "python",
   "pygments_lexer": "ipython3",
   "version": "3.10.6"
  },
  "orig_nbformat": 4,
  "vscode": {
   "interpreter": {
    "hash": "0d6b25e3d359dbcf5b3d012df9b4ff4bf9ad1ff150d1f4aeb5127ceac302af3e"
   }
  }
 },
 "nbformat": 4,
 "nbformat_minor": 2
}
